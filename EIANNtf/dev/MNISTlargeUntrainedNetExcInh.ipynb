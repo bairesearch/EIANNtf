{
  "cells": [
    {
      "cell_type": "markdown",
      "metadata": {
        "id": "3wF5wszaj97Y"
      },
      "source": [
        "# MNIST Large Untrained Net Exc Inh"
      ]
    },
    {
      "cell_type": "markdown",
      "metadata": {
        "id": "04QgGZc9bF5D"
      },
      "source": [
        "Derived from https://github.com/tensorflow/docs/blob/master/site/en/tutorials/quickstart/beginner.ipynb"
      ]
    },
    {
      "cell_type": "code",
      "execution_count": 135,
      "metadata": {
        "id": "0trJmd6DjqBZ",
        "colab": {
          "base_uri": "https://localhost:8080/"
        },
        "outputId": "5e671374-2fdb-44fe-f01c-347e75a30d79"
      },
      "outputs": [
        {
          "output_type": "stream",
          "name": "stdout",
          "text": [
            "TensorFlow version: 2.8.2\n"
          ]
        }
      ],
      "source": [
        "import tensorflow as tf\n",
        "print(\"TensorFlow version:\", tf.__version__)\n",
        "from keras import backend as K\n",
        "#print(\"keras version:\",tf.keras.__version__)"
      ]
    },
    {
      "cell_type": "code",
      "source": [
        "import numpy as np\n",
        "import sys\n",
        "np.set_printoptions(threshold=sys.maxsize)"
      ],
      "metadata": {
        "id": "36nIv8fWBeuV"
      },
      "execution_count": 136,
      "outputs": []
    },
    {
      "cell_type": "code",
      "source": [
        "positiveWeightImplementation = False\t#orig: True\n",
        "\n",
        "generateUntrainedNetwork = False\n",
        "if(generateUntrainedNetwork):\n",
        "    #only train the last layer\n",
        "    numberOfHiddenLayers = 2    #default: 2    #if 0 then useSVM=True\n",
        "else:\n",
        "    numberOfHiddenLayers = 2   #default: 2\n",
        "\n",
        "if(numberOfHiddenLayers > 1):\n",
        "    addSkipLayers = False   #optional\n",
        "else:\n",
        "    addSkipLayers = False   #mandatory\n",
        "\n",
        "layerSizeBase = 128  #default: 128\n",
        "\n",
        "batch_size = 64 #default: 64\n",
        "epochs = 5  #1  #5\n",
        "\n",
        "debugPreTrainWeights = False\n",
        "debugPreTrainOutputs = False\n",
        "debugPostTrainWeights = False\n",
        "debugPostTrainOutputs = False"
      ],
      "metadata": {
        "id": "cq_TphnxNEe8"
      },
      "execution_count": 137,
      "outputs": []
    },
    {
      "cell_type": "markdown",
      "metadata": {
        "id": "pGfQXr--YeL7"
      },
      "source": [
        "## Load data"
      ]
    },
    {
      "cell_type": "code",
      "execution_count": 138,
      "metadata": {
        "id": "7FP5258xjs-v",
        "colab": {
          "base_uri": "https://localhost:8080/"
        },
        "outputId": "605dcaf5-f140-4148-a30e-8d38eb4d75de"
      },
      "outputs": [
        {
          "output_type": "stream",
          "name": "stdout",
          "text": [
            "x_train.shape =  (60000, 28, 28)\n"
          ]
        }
      ],
      "source": [
        "mnist = tf.keras.datasets.mnist\n",
        "\n",
        "(x_train, y_train), (x_test, y_test) = mnist.load_data()\n",
        "x_train, x_test = x_train / 255.0, x_test / 255.0\n",
        "\n",
        "print(\"x_train.shape = \", x_train.shape)\n",
        "\n",
        "input_shape = (28, 28)"
      ]
    },
    {
      "cell_type": "markdown",
      "metadata": {
        "id": "BPZ68wASog_I"
      },
      "source": [
        "## Define model"
      ]
    },
    {
      "cell_type": "code",
      "source": [
        "def activationExcitatory(x):\n",
        "    return K.maximum(x, 0)  #ReLU\n",
        "\n",
        "def activationInhibitory(x):\n",
        "    if(positiveWeightImplementation):\n",
        "        return -(K.maximum(x, 0))   #ReLU with negative output\n",
        "    else:\n",
        "        return K.maximum(x, 0)  #ReLU\n",
        "\n",
        "def excitatoryNeuronInitializer(shape, dtype=None):\n",
        "    return tf.math.abs(tf.random.normal(shape, dtype=dtype))\n",
        "\n",
        "def inhibitoryNeuronInitializer(shape, dtype=None):\n",
        "    if(positiveWeightImplementation):\n",
        "        return tf.math.abs(tf.random.normal(shape, dtype=dtype))\n",
        "    else:\n",
        "        return tf.math.negative(tf.math.abs(tf.random.normal(shape, dtype=dtype)))\n",
        "\n",
        "class negative(tf.keras.constraints.Constraint):\n",
        "    #based on https://www.tensorflow.org/api_docs/python/tf/keras/constraints/Constraint\n",
        "    def __init__(self):\n",
        "        pass\n",
        "    def __call__(self, w):\n",
        "        return w * tf.cast(tf.math.less_equal(w, 0.), w.dtype)\n"
      ],
      "metadata": {
        "id": "bcEe88PrSf5h"
      },
      "execution_count": 139,
      "outputs": []
    },
    {
      "cell_type": "code",
      "execution_count": 140,
      "metadata": {
        "id": "h3IKyzTCDNGo"
      },
      "outputs": [],
      "source": [
        "num_classes = 10\n",
        "\n",
        "if(positiveWeightImplementation):\n",
        "    weightConstraint = tf.keras.constraints.non_neg()\n",
        "    constrainBiases = True   #ensure positive biases also\n",
        "    if(constrainBiases):\n",
        "        biasConstraint = tf.keras.constraints.non_neg()\n",
        "        constrainBiasesLastLayer = False\n",
        "        if(constrainBiasesLastLayer):\n",
        "            biasConstraintLastLayer = tf.keras.constraints.non_neg()\n",
        "        else:\n",
        "            biasConstraintLastLayer = None\n",
        "    else:\n",
        "        biasConstraint = None\n",
        "        biasConstraintLastLayer = None\n",
        "    weightConstraintLastLayer = weightConstraint\n",
        "else:\n",
        "    weightConstraintPositive = tf.keras.constraints.non_neg()\n",
        "    weightConstraintNegative = negative()\n",
        "    constrainBiases = False\n",
        "    if(constrainBiases):\n",
        "        biasConstraintPositive = tf.keras.constraints.non_neg()\n",
        "        biasConstraintNegative = negative()\n",
        "    else:\n",
        "        biasConstraintPositive = None\n",
        "        biasConstraintNegative = None\n",
        "    weightConstraintLastLayer = None\n",
        "    biasConstraintLastLayer = None\n",
        "\n",
        "if(generateUntrainedNetwork):\n",
        "    #only train the last layer\n",
        "    generateLargeNetwork = True\n",
        "else:\n",
        "    generateLargeNetwork = False\n",
        "\n",
        "\n",
        "if(generateLargeNetwork):\n",
        "    generateLargeNetworkRatio = 50\n",
        "    layerRatio = generateLargeNetworkRatio\n",
        "else:\n",
        "    layerRatio = 1  #10 #1\n",
        "\n",
        "def createEIlayer(layerIndex, h0, firstLayer=False):\n",
        "    if(positiveWeightImplementation):\n",
        "        h1E = tf.keras.layers.Dense(layerSizeBase*layerRatio, kernel_initializer=excitatoryNeuronInitializer, kernel_constraint=weightConstraint, bias_constraint=biasConstraint)(h0)\n",
        "        h1I = tf.keras.layers.Dense(layerSizeBase*layerRatio, kernel_initializer=inhibitoryNeuronInitializer, kernel_constraint=weightConstraint, bias_constraint=biasConstraint)(h0)\n",
        "        h1E = tf.keras.layers.Activation(activationExcitatory)(h1E)\n",
        "        h1I = tf.keras.layers.Activation(activationInhibitory)(h1I)\n",
        "        h1 = tf.keras.layers.Concatenate()([h1E, h1I])\n",
        "    else:\n",
        "        if(firstLayer):\n",
        "            h1E = tf.keras.layers.Dense(layerSizeBase*layerRatio, kernel_initializer=excitatoryNeuronInitializer)(h0)   #excitatory neuron inputs\n",
        "            h1I = tf.keras.layers.Dense(layerSizeBase*layerRatio, kernel_initializer=inhibitoryNeuronInitializer)(h0)   #inhibitory neuron inputs\n",
        "        else:\n",
        "            h0E, h0I = h0\n",
        "            h1Ee = tf.keras.layers.Dense(layerSizeBase*layerRatio, kernel_initializer=excitatoryNeuronInitializer, kernel_constraint=weightConstraintPositive, bias_constraint=biasConstraintPositive)(h0E) #excitatory neuron excitatory inputs\n",
        "            h1Ei = tf.keras.layers.Dense(layerSizeBase*layerRatio, kernel_initializer=excitatoryNeuronInitializer, kernel_constraint=weightConstraintNegative, bias_constraint=biasConstraintNegative)(h0I) #excitatory neuron inhibitory inputs\n",
        "            h1Ie = tf.keras.layers.Dense(layerSizeBase*layerRatio, kernel_initializer=inhibitoryNeuronInitializer, kernel_constraint=weightConstraintPositive, bias_constraint=biasConstraintPositive)(h0E) #inhibitory neuron excitatory inputs\n",
        "            h1Ii = tf.keras.layers.Dense(layerSizeBase*layerRatio, kernel_initializer=inhibitoryNeuronInitializer, kernel_constraint=weightConstraintNegative, bias_constraint=biasConstraintNegative)(h0I) #inhibitory neuron inhibitory inputs\n",
        "            h1E = tf.keras.layers.Add()([h1Ee, h1Ei])\n",
        "            h1I = tf.keras.layers.Add()([h1Ie, h1Ii])\n",
        "        h1E = tf.keras.layers.Activation(activationExcitatory)(h1E)\n",
        "        h1I = tf.keras.layers.Activation(activationInhibitory)(h1I)\n",
        "        h1 = (h1E, h1I)\n",
        "    return h1\n",
        "\n",
        "def concatEIneurons(h):\n",
        "    if(positiveWeightImplementation):\n",
        "        return h\n",
        "    else: \n",
        "        hE, hI = h\n",
        "        h = tf.keras.layers.Concatenate()([hE, hI])\n",
        "        return h\n",
        "\n",
        "x = tf.keras.layers.Input(shape=input_shape)\n",
        "h0 = tf.keras.layers.Flatten()(x)\n",
        "\n",
        "hLast = h0\n",
        "if(numberOfHiddenLayers >= 1):\n",
        "    h1 = createEIlayer(1, h0, firstLayer=True)\n",
        "    hLast = h1\n",
        "if(numberOfHiddenLayers >= 2):\n",
        "    h2 = createEIlayer(2, h1)\n",
        "    hLast = h2\n",
        "if(numberOfHiddenLayers >= 3):\n",
        "    h3 = createEIlayer(3, h2)\n",
        "    hLast = h3\n",
        "if(numberOfHiddenLayers >= 4):\n",
        "    h4 = createEIlayer(4, h3)\n",
        "    hLast = h4\n",
        "if(addSkipLayers):\n",
        "    mList = []\n",
        "    if(numberOfHiddenLayers >= 1):\n",
        "        m1 = tf.keras.layers.Flatten()(concatEIneurons(h1))\n",
        "        mList.append(m1)\n",
        "    if(numberOfHiddenLayers >= 2):\n",
        "        m2 = tf.keras.layers.Flatten()(concatEIneurons(h2))\n",
        "        mList.append(m2)\n",
        "    if(numberOfHiddenLayers >= 3):\n",
        "        m3 = tf.keras.layers.Flatten()(concatEIneurons(h3))\n",
        "        mList.append(m3)\n",
        "    if(numberOfHiddenLayers >= 4):\n",
        "        m4 = tf.keras.layers.Flatten()(concatEIneurons(h4))\n",
        "        mList.append(m4)\n",
        "    hLast = tf.keras.layers.concatenate(mList)\n",
        "else:\n",
        "    hLast = concatEIneurons(hLast)\n",
        "\n",
        "if(generateUntrainedNetwork):\n",
        "    hLast = tf.keras.layers.Lambda(lambda x: tf.keras.backend.stop_gradient(x))(hLast)\n",
        "y = tf.keras.layers.Dense(num_classes, activation='softmax', kernel_constraint=weightConstraintLastLayer, bias_constraint=biasConstraintLastLayer)(hLast)\n",
        "model = tf.keras.Model(x, y)\n",
        "\n",
        "#print(model.summary())\n",
        "#model.compile(optimizer=tf.keras.optimizers.RMSprop(epsilon=1e-08), loss='categorical_crossentropy', metrics=['acc'])\n",
        "#evaluation accuracy: ? (with 1 or 2 hidden layers)\n"
      ]
    },
    {
      "cell_type": "code",
      "execution_count": 141,
      "metadata": {
        "id": "RSkzdv8MD0tT"
      },
      "outputs": [],
      "source": [
        "loss_fn = tf.keras.losses.SparseCategoricalCrossentropy(from_logits=True)"
      ]
    },
    {
      "cell_type": "code",
      "execution_count": 142,
      "metadata": {
        "id": "9foNKHzTD2Vo",
        "colab": {
          "base_uri": "https://localhost:8080/"
        },
        "outputId": "d3641da5-0e46-4a47-e37e-111073d882e0"
      },
      "outputs": [
        {
          "output_type": "stream",
          "name": "stdout",
          "text": [
            "Model: \"model_8\"\n",
            "__________________________________________________________________________________________________\n",
            " Layer (type)                   Output Shape         Param #     Connected to                     \n",
            "==================================================================================================\n",
            " input_10 (InputLayer)          [(None, 28, 28)]     0           []                               \n",
            "                                                                                                  \n",
            " flatten_9 (Flatten)            (None, 784)          0           ['input_10[0][0]']               \n",
            "                                                                                                  \n",
            " dense_62 (Dense)               (None, 128)          100480      ['flatten_9[0][0]']              \n",
            "                                                                                                  \n",
            " dense_63 (Dense)               (None, 128)          100480      ['flatten_9[0][0]']              \n",
            "                                                                                                  \n",
            " activation_36 (Activation)     (None, 128)          0           ['dense_62[0][0]']               \n",
            "                                                                                                  \n",
            " activation_37 (Activation)     (None, 128)          0           ['dense_63[0][0]']               \n",
            "                                                                                                  \n",
            " dense_64 (Dense)               (None, 128)          16512       ['activation_36[0][0]']          \n",
            "                                                                                                  \n",
            " dense_65 (Dense)               (None, 128)          16512       ['activation_37[0][0]']          \n",
            "                                                                                                  \n",
            " dense_66 (Dense)               (None, 128)          16512       ['activation_36[0][0]']          \n",
            "                                                                                                  \n",
            " dense_67 (Dense)               (None, 128)          16512       ['activation_37[0][0]']          \n",
            "                                                                                                  \n",
            " add_18 (Add)                   (None, 128)          0           ['dense_64[0][0]',               \n",
            "                                                                  'dense_65[0][0]']               \n",
            "                                                                                                  \n",
            " add_19 (Add)                   (None, 128)          0           ['dense_66[0][0]',               \n",
            "                                                                  'dense_67[0][0]']               \n",
            "                                                                                                  \n",
            " activation_38 (Activation)     (None, 128)          0           ['add_18[0][0]']                 \n",
            "                                                                                                  \n",
            " activation_39 (Activation)     (None, 128)          0           ['add_19[0][0]']                 \n",
            "                                                                                                  \n",
            " concatenate_9 (Concatenate)    (None, 256)          0           ['activation_38[0][0]',          \n",
            "                                                                  'activation_39[0][0]']          \n",
            "                                                                                                  \n",
            " dense_68 (Dense)               (None, 10)           2570        ['concatenate_9[0][0]']          \n",
            "                                                                                                  \n",
            "==================================================================================================\n",
            "Total params: 269,578\n",
            "Trainable params: 269,578\n",
            "Non-trainable params: 0\n",
            "__________________________________________________________________________________________________\n",
            "None\n"
          ]
        }
      ],
      "source": [
        "model.compile(optimizer='adam',\n",
        "              loss=loss_fn,\n",
        "              metrics=['accuracy'])\n",
        "\n",
        "print(model.summary())"
      ]
    },
    {
      "cell_type": "code",
      "source": [
        "if(debugPreTrainWeights):\n",
        "    testwritefile = open('weights.txt', 'a')\n",
        "    for layerIndex, layer in enumerate(model.layers):\n",
        "        heading = \"layerWeights = \" + str(layerIndex) + \"\\n\"\n",
        "        testwritefile.write(heading)\n",
        "        #print(heading)\n",
        "        weights = layer.get_weights()\n",
        "        #print(weights)\n",
        "        weightsS =  str(weights)\n",
        "        testwritefile.write(weightsS)"
      ],
      "metadata": {
        "id": "FAQw0rvCd4Wt"
      },
      "execution_count": 143,
      "outputs": []
    },
    {
      "cell_type": "code",
      "source": [
        "if(debugPreTrainOutputs):\n",
        "    #testwritefile = open('output.txt', 'a')\n",
        "    xTrainFirstSample = np.expand_dims(x_train[0], axis=0)\n",
        "    for layerIndex, layer in enumerate(model.layers):\n",
        "        heading = \"layerOutputs = \" + str(layerIndex) + \"\\n\"\n",
        "        print(heading)\n",
        "        #testwritefile.write(heading)\n",
        "        func = K.function([model.get_layer(index=0).input], layer.output)\n",
        "        layerOutput = func([xTrainFirstSample])  # input_data is a numpy array\n",
        "        print(layerOutput)\n",
        "        #layerOutputS =  str(layerOutput)  #tf.tensor.toString(layerOutput)    #layerOutput.tostring()\n",
        "        #testwritefile.write(layerOutputS)"
      ],
      "metadata": {
        "id": "o8FNyXG9Pl-G"
      },
      "execution_count": 144,
      "outputs": []
    },
    {
      "cell_type": "markdown",
      "source": [
        "## Train model"
      ],
      "metadata": {
        "id": "5lJZhEkFYCtL"
      }
    },
    {
      "cell_type": "code",
      "execution_count": 145,
      "metadata": {
        "id": "y7suUbJXVLqP",
        "colab": {
          "base_uri": "https://localhost:8080/"
        },
        "outputId": "cd0c88d6-4cc8-4255-80a9-24a3d90ba4f0"
      },
      "outputs": [
        {
          "output_type": "stream",
          "name": "stdout",
          "text": [
            "Epoch 1/5\n",
            "938/938 [==============================] - 3s 3ms/step - loss: 261.4042 - accuracy: 0.3773\n",
            "Epoch 2/5\n",
            "938/938 [==============================] - 3s 3ms/step - loss: 47.1078 - accuracy: 0.6230\n",
            "Epoch 3/5\n",
            "938/938 [==============================] - 3s 3ms/step - loss: 36.7385 - accuracy: 0.7003\n",
            "Epoch 4/5\n",
            "938/938 [==============================] - 3s 3ms/step - loss: 35.5374 - accuracy: 0.7351\n",
            "Epoch 5/5\n",
            "938/938 [==============================] - 3s 3ms/step - loss: 33.3302 - accuracy: 0.7684\n"
          ]
        },
        {
          "output_type": "execute_result",
          "data": {
            "text/plain": [
              "<keras.callbacks.History at 0x7fb98a6dd4d0>"
            ]
          },
          "metadata": {},
          "execution_count": 145
        }
      ],
      "source": [
        "model.fit(x_train, y_train, batch_size=batch_size, epochs=epochs)"
      ]
    },
    {
      "cell_type": "code",
      "source": [
        "if(debugPostTrainWeights):\n",
        "    testwritefile = open('weights.txt', 'a')\n",
        "    for layerIndex, layer in enumerate(model.layers):\n",
        "        heading = \"layerWeights = \" + str(layerIndex) + \"\\n\"\n",
        "        testwritefile.write(heading)\n",
        "        #print(heading)\n",
        "        weights = layer.get_weights()\n",
        "        #print(weights)\n",
        "        weightsS =  str(weights)\n",
        "        testwritefile.write(weightsS)"
      ],
      "metadata": {
        "id": "nyUVIVzvNz3o"
      },
      "execution_count": 146,
      "outputs": []
    },
    {
      "cell_type": "code",
      "source": [
        "if(debugPostTrainOutputs):\n",
        "    #testwritefile = open('output.txt', 'a')\n",
        "    xTrainFirstSample = np.expand_dims(x_train[0], axis=0)\n",
        "    for layerIndex, layer in enumerate(model.layers):\n",
        "        heading = \"layerOutputs = \" + str(layerIndex) + \"\\n\"\n",
        "        print(heading)\n",
        "        #testwritefile.write(heading)\n",
        "        func = K.function([model.get_layer(index=0).input], layer.output)\n",
        "        layerOutput = func([xTrainFirstSample])  # input_data is a numpy array\n",
        "        print(layerOutput)\n",
        "        #layerOutputS =  str(layerOutput)  #tf.tensor.toString(layerOutput)    #layerOutput.tostring()\n",
        "        #testwritefile.write(layerOutputS)"
      ],
      "metadata": {
        "id": "wkFMMGAV3DvD"
      },
      "execution_count": 147,
      "outputs": []
    },
    {
      "cell_type": "markdown",
      "source": [
        "## Evaluate model"
      ],
      "metadata": {
        "id": "yp1IpSBHYGpV"
      }
    },
    {
      "cell_type": "code",
      "execution_count": 148,
      "metadata": {
        "id": "F7dTAzgHDUh7",
        "colab": {
          "base_uri": "https://localhost:8080/"
        },
        "outputId": "f8567dc0-0eaa-4eb4-a473-8ad9b2d0a4db"
      },
      "outputs": [
        {
          "output_type": "stream",
          "name": "stdout",
          "text": [
            "313/313 - 1s - loss: 38.8289 - accuracy: 0.7483 - 863ms/epoch - 3ms/step\n"
          ]
        },
        {
          "output_type": "execute_result",
          "data": {
            "text/plain": [
              "[38.828895568847656, 0.7483000159263611]"
            ]
          },
          "metadata": {},
          "execution_count": 148
        }
      ],
      "source": [
        "model.evaluate(x_test,  y_test, verbose=2)"
      ]
    },
    {
      "cell_type": "code",
      "execution_count": 149,
      "metadata": {
        "id": "rYb6DrEH0GMv"
      },
      "outputs": [],
      "source": [
        "probability_model = tf.keras.Sequential([\n",
        "  model,\n",
        "  tf.keras.layers.Softmax()\n",
        "])"
      ]
    },
    {
      "cell_type": "code",
      "execution_count": 150,
      "metadata": {
        "id": "cnqOZtUp1YR_",
        "colab": {
          "base_uri": "https://localhost:8080/"
        },
        "outputId": "3f612cf4-c838-40fd-b170-2d87e9a65a3f"
      },
      "outputs": [
        {
          "output_type": "execute_result",
          "data": {
            "text/plain": [
              "<tf.Tensor: shape=(5, 10), dtype=float32, numpy=\n",
              "array([[0.08533675, 0.08533675, 0.08533675, 0.08533675, 0.08533675,\n",
              "        0.08533675, 0.08533675, 0.23196931, 0.08533675, 0.08533675],\n",
              "       [0.08533675, 0.08533675, 0.23196931, 0.08533675, 0.08533675,\n",
              "        0.08533675, 0.08533675, 0.08533675, 0.08533675, 0.08533675],\n",
              "       [0.08533675, 0.23196931, 0.08533675, 0.08533675, 0.08533675,\n",
              "        0.08533675, 0.08533675, 0.08533675, 0.08533675, 0.08533675],\n",
              "       [0.23196931, 0.08533675, 0.08533675, 0.08533675, 0.08533675,\n",
              "        0.08533675, 0.08533675, 0.08533675, 0.08533675, 0.08533675],\n",
              "       [0.08533675, 0.08533675, 0.08533675, 0.08533675, 0.23196931,\n",
              "        0.08533675, 0.08533675, 0.08533675, 0.08533675, 0.08533675]],\n",
              "      dtype=float32)>"
            ]
          },
          "metadata": {},
          "execution_count": 150
        }
      ],
      "source": [
        "probability_model(x_test[:5])"
      ]
    }
  ],
  "metadata": {
    "colab": {
      "collapsed_sections": [],
      "provenance": [],
      "machine_shape": "hm"
    },
    "kernelspec": {
      "display_name": "Python 3",
      "name": "python3"
    },
    "accelerator": "GPU",
    "gpuClass": "standard"
  },
  "nbformat": 4,
  "nbformat_minor": 0
}