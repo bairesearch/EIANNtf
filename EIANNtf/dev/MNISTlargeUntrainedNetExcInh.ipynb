{
  "cells": [
    {
      "cell_type": "markdown",
      "metadata": {
        "id": "3wF5wszaj97Y"
      },
      "source": [
        "# MNIST Large Untrained Net Exc Inh"
      ]
    },
    {
      "cell_type": "markdown",
      "metadata": {
        "id": "04QgGZc9bF5D"
      },
      "source": [
        "Derived from https://github.com/tensorflow/docs/blob/master/site/en/tutorials/quickstart/beginner.ipynb"
      ]
    },
    {
      "cell_type": "code",
      "execution_count": 118,
      "metadata": {
        "id": "0trJmd6DjqBZ",
        "colab": {
          "base_uri": "https://localhost:8080/"
        },
        "outputId": "22a11d7d-c962-44be-a893-5d8c3069b05d"
      },
      "outputs": [
        {
          "output_type": "stream",
          "name": "stdout",
          "text": [
            "TensorFlow version: 2.8.2\n"
          ]
        }
      ],
      "source": [
        "import tensorflow as tf\n",
        "print(\"TensorFlow version:\", tf.__version__)\n",
        "from keras import backend as K\n",
        "#print(\"keras version:\",tf.keras.__version__)"
      ]
    },
    {
      "cell_type": "code",
      "source": [
        "import numpy as np\n",
        "import sys\n",
        "np.set_printoptions(threshold=sys.maxsize)"
      ],
      "metadata": {
        "id": "36nIv8fWBeuV"
      },
      "execution_count": 119,
      "outputs": []
    },
    {
      "cell_type": "code",
      "source": [
        "inlineImplementation = False\t#orig: True #True: excitatory/inhibitory neurons are on same sublayer, False: add inhibitory neurons to separate preceding sublayer\n",
        "if(inlineImplementation):\n",
        "    positiveWeightImplementation = False\t#orig: True #optional\n",
        "    if(not positiveWeightImplementation):\n",
        "        integrateWeights = True    #orig: False #optional\n",
        "        if(integrateWeights):\n",
        "            integrateWeights1 = False    #explicitly declare E/I neurons\n",
        "            integrateWeights2 = True    #implicitly declare E/I neurons \n",
        "            integrateWeightsInitialiseZero = False   #miscellaneous training performance improvement (single EI layer only)\n",
        "else:\n",
        "    positiveWeightImplementation = False    #False: only current coded implementation\n",
        "\n",
        "inputLayerExcitatoryOnly = True #True: only current coded implementation\n",
        "\n",
        "generateUntrainedNetwork = False\n",
        "if(generateUntrainedNetwork):\n",
        "    #only train the last layer\n",
        "    numberOfHiddenLayers = 2    #default: 2    #if 0 then useSVM=True\n",
        "else:\n",
        "    numberOfHiddenLayers = 2 #default: 2\n",
        "\n",
        "if(numberOfHiddenLayers > 1):\n",
        "    addSkipLayers = False   #optional\n",
        "else:\n",
        "    addSkipLayers = False   #mandatory\n",
        "\n",
        "layerSizeBase = 128  #default: 128\n",
        "\n",
        "batch_size = 64 #default: 64\n",
        "epochs = 100  #1  #5\n",
        "\n",
        "debugNoEIneurons = False\n",
        "debugPreTrainWeights = True\n",
        "debugPreTrainOutputs = True\n",
        "debugPostTrainWeights = True\n",
        "debugPostTrainOutputs = True"
      ],
      "metadata": {
        "id": "cq_TphnxNEe8"
      },
      "execution_count": 120,
      "outputs": []
    },
    {
      "cell_type": "markdown",
      "metadata": {
        "id": "pGfQXr--YeL7"
      },
      "source": [
        "## Load data"
      ]
    },
    {
      "cell_type": "code",
      "execution_count": 121,
      "metadata": {
        "id": "7FP5258xjs-v",
        "colab": {
          "base_uri": "https://localhost:8080/"
        },
        "outputId": "0b1cd146-436e-4a16-e51d-43f4e8a79366"
      },
      "outputs": [
        {
          "output_type": "stream",
          "name": "stdout",
          "text": [
            "x_train.shape =  (60000, 28, 28)\n"
          ]
        }
      ],
      "source": [
        "mnist = tf.keras.datasets.mnist\n",
        "\n",
        "(x_train, y_train), (x_test, y_test) = mnist.load_data()\n",
        "x_train, x_test = x_train / 255.0, x_test / 255.0\n",
        "\n",
        "print(\"x_train.shape = \", x_train.shape)\n",
        "\n",
        "input_shape = (28, 28)"
      ]
    },
    {
      "cell_type": "markdown",
      "metadata": {
        "id": "BPZ68wASog_I"
      },
      "source": [
        "## Define model"
      ]
    },
    {
      "cell_type": "code",
      "source": [
        "def EIactivation(x):\n",
        "    return K.maximum(x, 0)  #ReLU\n",
        "    \n",
        "def EIactivationExcitatory(x):\n",
        "    if(inlineImplementation):\n",
        "        if(positiveWeightImplementation):\n",
        "            return K.maximum(x, 0)  #ReLU\n",
        "        else:\n",
        "             print(\"EIactivationExcitatory error: requires positiveWeightImplementation\")      \n",
        "    else:\n",
        "        print(\"EIactivationExcitatory error: requires inlineImplementation\")\n",
        "\n",
        "def EIactivationInhibitory(x):\n",
        "    if(inlineImplementation):\n",
        "        if(positiveWeightImplementation):\n",
        "            return -(K.maximum(x, 0))   #ReLU with negative output\n",
        "        else:\n",
        "             print(\"EIactivationInhibitory error: requires positiveWeightImplementation\")      \n",
        "    else:\n",
        "        print(\"inlineImplementation error: requires inlineImplementation\")\n",
        "\n",
        "def EIweightInitializer(shape, dtype=None):\n",
        "    if(inlineImplementation):\n",
        "        if(positiveWeightImplementation):\n",
        "            w = tf.math.abs(tf.random.normal(shape, dtype=dtype))\n",
        "        else:\n",
        "            if(integrateWeights):\n",
        "                if(integrateWeightsInitialiseZero):\n",
        "                    w = tf.random.normal(shape, dtype=dtype)\n",
        "                    #w = tf.zeros(shape, dtype=dtype)    #tf.math.abs(tf.random.normal(shape, dtype=dtype))\n",
        "                else:\n",
        "                    w = tf.math.abs(tf.random.normal(shape, dtype=dtype))\n",
        "                    wEIsize = w.shape[0]//2\n",
        "                    wSignE = tf.ones([wEIsize, w.shape[1]])\n",
        "                    wSignI = tf.ones([wEIsize, w.shape[1]])\n",
        "                    wSignI = tf.multiply(wSignI, -1)\n",
        "                    wSign = tf.concat([wSignE, wSignI], axis=0)\n",
        "                    w = tf.multiply(w, wSign)\n",
        "            else:\n",
        "                print(\"EIweightInitializer error: requires !positiveWeightImplementation:integrateWeights\")\n",
        "    else:\n",
        "        print(\"EIweightInitializer error: requires inlineImplementation\")\n",
        "\n",
        "    return w\n",
        "\n",
        "def EIweightInitializerExcitatory(shape, dtype=None):\n",
        "    if(positiveWeightImplementation):\n",
        "        print(\"EIweightInitializerExcitatory error: requires !positiveWeightImplementation\")\n",
        "    else:\n",
        "        return tf.math.abs(tf.random.normal(shape, dtype=dtype))\n",
        "\n",
        "def EIweightInitializerInhibitory(shape, dtype=None):\n",
        "    if(positiveWeightImplementation):\n",
        "        print(\"EIweightInitializerExcitatory error: requires !positiveWeightImplementation\")\n",
        "    else:\n",
        "        return tf.math.negative(tf.math.abs(tf.random.normal(shape, dtype=dtype)))\n",
        "\n",
        "class negative(tf.keras.constraints.Constraint):\n",
        "    #based on https://www.tensorflow.org/api_docs/python/tf/keras/constraints/Constraint\n",
        "    def __init__(self):\n",
        "        pass\n",
        "    def __call__(self, w):\n",
        "        return w * tf.cast(tf.math.less_equal(w, 0.), w.dtype)\n",
        "\n",
        "class positiveOrNegative(tf.keras.constraints.Constraint):\n",
        "    #based on https://www.tensorflow.org/api_docs/python/tf/keras/constraints/Constraint\n",
        "    def __init__(self):\n",
        "        pass\n",
        "    def __call__(self, w):\n",
        "        w_shape = w.shape\n",
        "        wEIsize = w.shape[0]//2\n",
        "        wE = w[0:wEIsize]\n",
        "        wI = w[wEIsize:]\n",
        "        wEcheck = tf.greater_equal(wE, 0)\n",
        "        wIcheck = tf.less_equal(wI, 0)\n",
        "        wEcheck = tf.cast(wEcheck, tf.float32)\n",
        "        wIcheck = tf.cast(wIcheck, tf.float32)\n",
        "        wE = tf.multiply(wE, wEcheck)\n",
        "        wI = tf.multiply(wI, wIcheck)\n",
        "        w = tf.concat([wE, wI], axis=0)\n",
        "        return w\n"
      ],
      "metadata": {
        "id": "bcEe88PrSf5h"
      },
      "execution_count": 122,
      "outputs": []
    },
    {
      "cell_type": "code",
      "execution_count": 123,
      "metadata": {
        "id": "h3IKyzTCDNGo"
      },
      "outputs": [],
      "source": [
        "num_classes = 10\n",
        "\n",
        "if(inlineImplementation):\n",
        "    if(positiveWeightImplementation):\n",
        "        EIweightConstraint = tf.keras.constraints.non_neg()\n",
        "        constrainBiases = True   #ensure positive biases also\n",
        "        if(constrainBiases):\n",
        "            EIbiasConstraint = tf.keras.constraints.non_neg()\n",
        "            constrainBiasesLastLayer = False\n",
        "            if(constrainBiasesLastLayer):\n",
        "                EIbiasConstraintLastLayer = tf.keras.constraints.non_neg()\n",
        "            else:\n",
        "                EIbiasConstraintLastLayer = None\n",
        "        else:\n",
        "            EIbiasConstraint = None\n",
        "            EIbiasConstraintLastLayer = None\n",
        "        EIweightConstraintLastLayer = EIweightConstraint\n",
        "    else:\n",
        "        if(integrateWeights):\n",
        "            EIweightConstraint = positiveOrNegative()\n",
        "            EIbiasConstraint = None\n",
        "            EIweightConstraintLastLayer = None\n",
        "            EIbiasConstraintLastLayer = None\n",
        "        else:\n",
        "            EIweightConstraintPositive = tf.keras.constraints.non_neg()\n",
        "            EIweightConstraintNegative = negative()\n",
        "            constrainBiases = False\n",
        "            if(constrainBiases):\n",
        "                EIbiasConstraintPositive = tf.keras.constraints.non_neg()\n",
        "                EIbiasConstraintNegative = negative()\n",
        "            else:\n",
        "                EIbiasConstraintPositive = None\n",
        "                EIbiasConstraintNegative = None\n",
        "            EIweightConstraintLastLayer = None\n",
        "            EIbiasConstraintLastLayer = None\n",
        "else:\n",
        "    EIweightConstraintPositive = tf.keras.constraints.non_neg()\n",
        "    EIweightConstraintNegative = negative()\n",
        "    constrainBiases = False\n",
        "    if(constrainBiases):\n",
        "        EIbiasConstraintPositive = tf.keras.constraints.non_neg()\n",
        "        EIbiasConstraintNegative = negative()\n",
        "    else:\n",
        "        EIbiasConstraintPositive = None\n",
        "        EIbiasConstraintNegative = None\n",
        "    EIweightConstraintLastLayer = None\n",
        "    EIbiasConstraintLastLayer = None  \n",
        "\n",
        "if(generateUntrainedNetwork):\n",
        "    #only train the last layer\n",
        "    generateLargeNetwork = True\n",
        "else:\n",
        "    generateLargeNetwork = False\n",
        "\n",
        "\n",
        "if(generateLargeNetwork):\n",
        "    generateLargeNetworkRatio = 50\n",
        "    layerRatio = generateLargeNetworkRatio\n",
        "else:\n",
        "    layerRatio = 1  #10 #1\n",
        "\n",
        "def createEIlayer(layerIndex, h0, firstLayer=False):\n",
        "    if(debugNoEIneurons):\n",
        "        h1E = tf.keras.layers.Dense(layerSizeBase*layerRatio)(h0)   #excitatory neuron inputs\n",
        "        h1I = tf.keras.layers.Dense(layerSizeBase*layerRatio)(h0)   #inhibitory neuron inputs   \n",
        "        h1E = tf.keras.layers.Activation(EIactivationExcitatory)(h1E)\n",
        "        h1I = tf.keras.layers.Activation(EIactivationInhibitory)(h1I)\n",
        "        h1 = tf.keras.layers.Concatenate()([h1E, h1I])  \n",
        "    else:\n",
        "        if(inlineImplementation):\n",
        "            if(positiveWeightImplementation):\n",
        "                h1E = tf.keras.layers.Dense(layerSizeBase*layerRatio, kernel_initializer=EIweightInitializerExcitatory, kernel_constraint=EIweightConstraint, bias_constraint=EIbiasConstraint)(h0)\n",
        "                h1I = tf.keras.layers.Dense(layerSizeBase*layerRatio, kernel_initializer=EIweightInitializerInhibitory, kernel_constraint=EIweightConstraint, bias_constraint=EIbiasConstraint)(h0)\n",
        "                h1E = tf.keras.layers.Activation(EIactivationExcitatory)(h1E)\n",
        "                h1I = tf.keras.layers.Activation(EIactivationInhibitory)(h1I)\n",
        "                h1 = tf.keras.layers.Concatenate()([h1E, h1I])\n",
        "            else:\n",
        "                if(integrateWeights):\n",
        "                    if(integrateWeights1):\n",
        "                        if(firstLayer):\n",
        "                            h1E = tf.keras.layers.Dense(layerSizeBase*layerRatio)(h0)   #excitatory neuron inputs\n",
        "                            h1I = tf.keras.layers.Dense(layerSizeBase*layerRatio)(h0)   #inhibitory neuron inputs             \n",
        "                        else:\n",
        "                            h1E = tf.keras.layers.Dense(layerSizeBase*layerRatio, kernel_initializer=EIweightInitializer, kernel_constraint=EIweightConstraint, bias_constraint=EIbiasConstraint)(h0)   #excitatory neuron inputs\n",
        "                            h1I = tf.keras.layers.Dense(layerSizeBase*layerRatio, kernel_initializer=EIweightInitializer, kernel_constraint=EIweightConstraint, bias_constraint=EIbiasConstraint)(h0)   #inhibitory neuron inputs  \n",
        "                        h1E = tf.keras.layers.Activation(EIactivation)(h1E)\n",
        "                        h1I = tf.keras.layers.Activation(EIactivation)(h1I)\n",
        "                        h1 = tf.keras.layers.Concatenate()([h1E, h1I])\n",
        "                    elif(integrateWeights2):\n",
        "                        if(firstLayer):\n",
        "                            h1 = tf.keras.layers.Dense(layerSizeBase*layerRatio*4)(h0)   #excitatory neuron inputs\n",
        "                        else:\n",
        "                            h1 = tf.keras.layers.Dense(layerSizeBase*layerRatio*2, kernel_initializer=EIweightInitializer, kernel_constraint=EIweightConstraint, bias_constraint=EIbiasConstraint)(h0)   #excitatory neuron inputs\n",
        "                        h1 = tf.keras.layers.Activation(EIactivation)(h1) #ReLU\n",
        "                else:\n",
        "                    if(firstLayer):\n",
        "                        h1E = tf.keras.layers.Dense(layerSizeBase*layerRatio)(h0)   #excitatory neuron inputs\n",
        "                        h1I = tf.keras.layers.Dense(layerSizeBase*layerRatio)(h0)   #inhibitory neuron inputs\n",
        "                    else:\n",
        "                        h0E, h0I = h0\n",
        "                        h1Ee = tf.keras.layers.Dense(layerSizeBase*layerRatio, kernel_initializer=EIweightInitializerExcitatory, kernel_constraint=EIweightConstraintPositive, bias_constraint=EIbiasConstraintPositive)(h0E) #excitatory neuron excitatory inputs\n",
        "                        h1Ei = tf.keras.layers.Dense(layerSizeBase*layerRatio, kernel_initializer=EIweightInitializerInhibitory, kernel_constraint=EIweightConstraintNegative, bias_constraint=EIbiasConstraintNegative)(h0I) #excitatory neuron inhibitory inputs\n",
        "                        h1Ie = tf.keras.layers.Dense(layerSizeBase*layerRatio, kernel_initializer=EIweightInitializerExcitatory, kernel_constraint=EIweightConstraintPositive, bias_constraint=EIbiasConstraintPositive)(h0E) #inhibitory neuron excitatory inputs\n",
        "                        h1Ii = tf.keras.layers.Dense(layerSizeBase*layerRatio, kernel_initializer=EIweightInitializerInhibitory, kernel_constraint=EIweightConstraintNegative, bias_constraint=EIbiasConstraintNegative)(h0I) #inhibitory neuron inhibitory inputs\n",
        "                        h1E = tf.keras.layers.Add()([h1Ee, h1Ei])\n",
        "                        h1I = tf.keras.layers.Add()([h1Ie, h1Ii])\n",
        "                    h1E = tf.keras.layers.Activation(EIactivation)(h1E)\n",
        "                    h1I = tf.keras.layers.Activation(EIactivation)(h1I)\n",
        "                    h1 = (h1E, h1I)\n",
        "        else:\n",
        "            h1I = tf.keras.layers.Dense(layerSizeBase*layerRatio, kernel_initializer=EIweightInitializerExcitatory, kernel_constraint=EIweightConstraintPositive, bias_constraint=EIbiasConstraintPositive)(h0) #inhibitory interneuron (excitatory inputs)\n",
        "            h1I = tf.keras.layers.Activation(EIactivation)(h1I) #not required\n",
        "            h1I = h1I*calculateInhibitoryNeuronNormalisationFactor(h0, h1I)\n",
        "            h1Ee = tf.keras.layers.Dense(layerSizeBase*layerRatio, kernel_initializer=EIweightInitializerExcitatory, kernel_constraint=EIweightConstraintPositive, bias_constraint=EIbiasConstraintPositive)(h0) #excitatory neuron excitatory inputs\n",
        "            h1Ei = tf.keras.layers.Dense(layerSizeBase*layerRatio, kernel_initializer=EIweightInitializerInhibitory, kernel_constraint=EIweightConstraintNegative, bias_constraint=EIbiasConstraintNegative)(h1I) #excitatory neuron inhibitory inputs\n",
        "            h1E = tf.keras.layers.Add()([h1Ee, h1Ei])\n",
        "            h1E = tf.keras.layers.Activation(EIactivation)(h1E)\n",
        "            h1 = h1E\n",
        "    return h1\n",
        "\n",
        "def calculateInhibitoryNeuronNormalisationFactor(h0, h1I):\n",
        "    h1InormalisationFactor = tf.reduce_mean(h0)/tf.reduce_mean(h1I)\n",
        "    return h1InormalisationFactor\n",
        "\n",
        "def concatEIneurons(h):\n",
        "    if(inlineImplementation):\n",
        "        if(positiveWeightImplementation):\n",
        "            return h\n",
        "        else: \n",
        "            if(integrateWeights):\n",
        "                pass\n",
        "            else:\n",
        "                hE, hI = h\n",
        "                h = tf.keras.layers.Concatenate()([hE, hI])\n",
        "            return h\n",
        "    else:\n",
        "        return h\n",
        "\n",
        "x = tf.keras.layers.Input(shape=input_shape)\n",
        "h0 = tf.keras.layers.Flatten()(x)\n",
        "\n",
        "hLast = h0\n",
        "if(numberOfHiddenLayers >= 1):\n",
        "    h1 = createEIlayer(1, h0, firstLayer=True)\n",
        "    hLast = h1\n",
        "if(numberOfHiddenLayers >= 2):\n",
        "    h2 = createEIlayer(2, h1)\n",
        "    hLast = h2\n",
        "if(numberOfHiddenLayers >= 3):\n",
        "    h3 = createEIlayer(3, h2)\n",
        "    hLast = h3\n",
        "if(numberOfHiddenLayers >= 4):\n",
        "    h4 = createEIlayer(4, h3)\n",
        "    hLast = h4\n",
        "if(addSkipLayers):\n",
        "    mList = []\n",
        "    if(numberOfHiddenLayers >= 1):\n",
        "        m1 = tf.keras.layers.Flatten()(concatEIneurons(h1))\n",
        "        mList.append(m1)\n",
        "    if(numberOfHiddenLayers >= 2):\n",
        "        m2 = tf.keras.layers.Flatten()(concatEIneurons(h2))\n",
        "        mList.append(m2)\n",
        "    if(numberOfHiddenLayers >= 3):\n",
        "        m3 = tf.keras.layers.Flatten()(concatEIneurons(h3))\n",
        "        mList.append(m3)\n",
        "    if(numberOfHiddenLayers >= 4):\n",
        "        m4 = tf.keras.layers.Flatten()(concatEIneurons(h4))\n",
        "        mList.append(m4)\n",
        "    hLast = tf.keras.layers.concatenate(mList)\n",
        "else:\n",
        "    hLast = concatEIneurons(hLast)\n",
        "\n",
        "if(generateUntrainedNetwork):\n",
        "    hLast = tf.keras.layers.Lambda(lambda x: tf.keras.backend.stop_gradient(x))(hLast)\n",
        "y = tf.keras.layers.Dense(num_classes, activation='softmax', kernel_constraint=EIweightConstraintLastLayer, bias_constraint=EIbiasConstraintLastLayer)(hLast)\n",
        "model = tf.keras.Model(x, y)\n",
        "\n",
        "#print(model.summary())\n",
        "#model.compile(optimizer=tf.keras.optimizers.RMSprop(epsilon=1e-08), loss='categorical_crossentropy', metrics=['acc'])\n",
        "#evaluation accuracy: ? (with 1 or 2 hidden layers)\n"
      ]
    },
    {
      "cell_type": "code",
      "execution_count": 124,
      "metadata": {
        "id": "RSkzdv8MD0tT"
      },
      "outputs": [],
      "source": [
        "loss_fn = tf.keras.losses.SparseCategoricalCrossentropy(from_logits=True)"
      ]
    },
    {
      "cell_type": "code",
      "execution_count": 126,
      "metadata": {
        "id": "9foNKHzTD2Vo",
        "colab": {
          "base_uri": "https://localhost:8080/"
        },
        "outputId": "9e44f03b-0045-4295-b4bf-253710c7ca96"
      },
      "outputs": [
        {
          "output_type": "stream",
          "name": "stdout",
          "text": [
            "Model: \"model_329\"\n",
            "__________________________________________________________________________________________________\n",
            " Layer (type)                   Output Shape         Param #     Connected to                     \n",
            "==================================================================================================\n",
            " input_8 (InputLayer)           [(None, 28, 28)]     0           []                               \n",
            "                                                                                                  \n",
            " flatten_7 (Flatten)            (None, 784)          0           ['input_8[0][0]']                \n",
            "                                                                                                  \n",
            " dense_49 (Dense)               (None, 128)          100480      ['flatten_7[0][0]']              \n",
            "                                                                                                  \n",
            " activation_28 (Activation)     (None, 128)          0           ['dense_49[0][0]']               \n",
            "                                                                                                  \n",
            " tf.math.reduce_mean_28 (TFOpLa  ()                  0           ['flatten_7[0][0]']              \n",
            " mbda)                                                                                            \n",
            "                                                                                                  \n",
            " tf.math.reduce_mean_29 (TFOpLa  ()                  0           ['activation_28[0][0]']          \n",
            " mbda)                                                                                            \n",
            "                                                                                                  \n",
            " tf.math.truediv_14 (TFOpLambda  ()                  0           ['tf.math.reduce_mean_28[0][0]', \n",
            " )                                                                'tf.math.reduce_mean_29[0][0]'] \n",
            "                                                                                                  \n",
            " tf.math.multiply_14 (TFOpLambd  (None, 128)         0           ['activation_28[0][0]',          \n",
            " a)                                                               'tf.math.truediv_14[0][0]']     \n",
            "                                                                                                  \n",
            " dense_50 (Dense)               (None, 128)          100480      ['flatten_7[0][0]']              \n",
            "                                                                                                  \n",
            " dense_51 (Dense)               (None, 128)          16512       ['tf.math.multiply_14[0][0]']    \n",
            "                                                                                                  \n",
            " add_14 (Add)                   (None, 128)          0           ['dense_50[0][0]',               \n",
            "                                                                  'dense_51[0][0]']               \n",
            "                                                                                                  \n",
            " activation_29 (Activation)     (None, 128)          0           ['add_14[0][0]']                 \n",
            "                                                                                                  \n",
            " dense_52 (Dense)               (None, 128)          16512       ['activation_29[0][0]']          \n",
            "                                                                                                  \n",
            " activation_30 (Activation)     (None, 128)          0           ['dense_52[0][0]']               \n",
            "                                                                                                  \n",
            " tf.math.reduce_mean_30 (TFOpLa  ()                  0           ['activation_29[0][0]']          \n",
            " mbda)                                                                                            \n",
            "                                                                                                  \n",
            " tf.math.reduce_mean_31 (TFOpLa  ()                  0           ['activation_30[0][0]']          \n",
            " mbda)                                                                                            \n",
            "                                                                                                  \n",
            " tf.math.truediv_15 (TFOpLambda  ()                  0           ['tf.math.reduce_mean_30[0][0]', \n",
            " )                                                                'tf.math.reduce_mean_31[0][0]'] \n",
            "                                                                                                  \n",
            " tf.math.multiply_15 (TFOpLambd  (None, 128)         0           ['activation_30[0][0]',          \n",
            " a)                                                               'tf.math.truediv_15[0][0]']     \n",
            "                                                                                                  \n",
            " dense_53 (Dense)               (None, 128)          16512       ['activation_29[0][0]']          \n",
            "                                                                                                  \n",
            " dense_54 (Dense)               (None, 128)          16512       ['tf.math.multiply_15[0][0]']    \n",
            "                                                                                                  \n",
            " add_15 (Add)                   (None, 128)          0           ['dense_53[0][0]',               \n",
            "                                                                  'dense_54[0][0]']               \n",
            "                                                                                                  \n",
            " activation_31 (Activation)     (None, 128)          0           ['add_15[0][0]']                 \n",
            "                                                                                                  \n",
            " dense_55 (Dense)               (None, 10)           1290        ['activation_31[0][0]']          \n",
            "                                                                                                  \n",
            "==================================================================================================\n",
            "Total params: 268,298\n",
            "Trainable params: 268,298\n",
            "Non-trainable params: 0\n",
            "__________________________________________________________________________________________________\n",
            "None\n"
          ]
        }
      ],
      "source": [
        "model.compile(optimizer='adam',\n",
        "              loss=loss_fn,\n",
        "              metrics=['accuracy'])\n",
        "\n",
        "print(model.summary())\n",
        "#printModelSummary(model)\n"
      ]
    },
    {
      "cell_type": "code",
      "source": [
        "if(debugPreTrainWeights):\n",
        "    testwritefile = open('weightsPreTrain.txt', 'w')\n",
        "    for layerIndex, layer in enumerate(model.layers):\n",
        "        heading = \"\\n\" + \"layer = \" + str(layerIndex) + \"\\n\"\n",
        "        testwritefile.write(heading)\n",
        "        #print(heading)\n",
        "        weights = layer.get_weights()\n",
        "        #print(weights)\n",
        "        weightsS =  str(weights)\n",
        "        testwritefile.write(weightsS)\n",
        "    testwritefile.close()"
      ],
      "metadata": {
        "id": "FAQw0rvCd4Wt"
      },
      "execution_count": 127,
      "outputs": []
    },
    {
      "cell_type": "code",
      "source": [
        "if(debugPreTrainOutputs):\n",
        "    testwritefile = open('outputPreTrain.txt', 'w')\n",
        "    xTrainFirstSample = np.expand_dims(x_train[0], axis=0)\n",
        "    for layerIndex, layer in enumerate(model.layers):\n",
        "        heading = \"\\n\" + \"layer = \" + str(layerIndex) + \"\\n\"\n",
        "        #print(heading)\n",
        "        testwritefile.write(heading)\n",
        "        func = K.function([model.get_layer(index=0).input], layer.output)\n",
        "        layerOutput = func([xTrainFirstSample])  # input_data is a numpy array\n",
        "        #print(\"layerOutput.shape = \", layerOutput.shape)\n",
        "        layerOutputS =  str(layerOutput)\n",
        "        testwritefile.write(layerOutputS)\n",
        "    testwritefile.close()"
      ],
      "metadata": {
        "id": "o8FNyXG9Pl-G"
      },
      "execution_count": 128,
      "outputs": []
    },
    {
      "cell_type": "markdown",
      "source": [
        "## Train model"
      ],
      "metadata": {
        "id": "5lJZhEkFYCtL"
      }
    },
    {
      "cell_type": "code",
      "execution_count": 129,
      "metadata": {
        "id": "y7suUbJXVLqP",
        "colab": {
          "base_uri": "https://localhost:8080/"
        },
        "outputId": "41f67819-94e1-4066-96e7-f791b03e86bb"
      },
      "outputs": [
        {
          "output_type": "stream",
          "name": "stdout",
          "text": [
            "Epoch 1/100\n",
            "938/938 [==============================] - 4s 3ms/step - loss: 18.9159 - accuracy: 0.6583\n",
            "Epoch 2/100\n",
            "938/938 [==============================] - 3s 3ms/step - loss: 3.7561 - accuracy: 0.8192\n",
            "Epoch 3/100\n",
            "938/938 [==============================] - 3s 3ms/step - loss: 3.5708 - accuracy: 0.8378\n",
            "Epoch 4/100\n",
            "938/938 [==============================] - 3s 3ms/step - loss: 3.2515 - accuracy: 0.8554\n",
            "Epoch 5/100\n",
            "938/938 [==============================] - 3s 3ms/step - loss: 2.9038 - accuracy: 0.8675\n",
            "Epoch 6/100\n",
            "938/938 [==============================] - 3s 3ms/step - loss: 2.6913 - accuracy: 0.8754\n",
            "Epoch 7/100\n",
            "938/938 [==============================] - 3s 3ms/step - loss: 2.4172 - accuracy: 0.8782\n",
            "Epoch 8/100\n",
            "938/938 [==============================] - 3s 3ms/step - loss: 2.2339 - accuracy: 0.8844\n",
            "Epoch 9/100\n",
            "938/938 [==============================] - 3s 3ms/step - loss: 1.8655 - accuracy: 0.8935\n",
            "Epoch 10/100\n",
            "938/938 [==============================] - 3s 3ms/step - loss: 1.6093 - accuracy: 0.8988\n",
            "Epoch 11/100\n",
            "938/938 [==============================] - 3s 3ms/step - loss: 1.3936 - accuracy: 0.9022\n",
            "Epoch 12/100\n",
            "938/938 [==============================] - 3s 3ms/step - loss: 1.2060 - accuracy: 0.9038\n",
            "Epoch 13/100\n",
            "938/938 [==============================] - 3s 3ms/step - loss: 0.9851 - accuracy: 0.9111\n",
            "Epoch 14/100\n",
            "938/938 [==============================] - 3s 3ms/step - loss: 0.9368 - accuracy: 0.9039\n",
            "Epoch 15/100\n",
            "938/938 [==============================] - 3s 3ms/step - loss: 0.7206 - accuracy: 0.9142\n",
            "Epoch 16/100\n",
            "938/938 [==============================] - 3s 3ms/step - loss: 0.5392 - accuracy: 0.9192\n",
            "Epoch 17/100\n",
            "938/938 [==============================] - 3s 3ms/step - loss: 0.4564 - accuracy: 0.9204\n",
            "Epoch 18/100\n",
            "938/938 [==============================] - 3s 3ms/step - loss: 0.3612 - accuracy: 0.9257\n",
            "Epoch 19/100\n",
            "938/938 [==============================] - 3s 3ms/step - loss: 0.3187 - accuracy: 0.9259\n",
            "Epoch 20/100\n",
            "938/938 [==============================] - 3s 3ms/step - loss: 0.2699 - accuracy: 0.9306\n",
            "Epoch 21/100\n",
            "938/938 [==============================] - 3s 3ms/step - loss: 0.2481 - accuracy: 0.9333\n",
            "Epoch 22/100\n",
            "938/938 [==============================] - 3s 3ms/step - loss: 0.2272 - accuracy: 0.9367\n",
            "Epoch 23/100\n",
            "938/938 [==============================] - 3s 3ms/step - loss: 0.2176 - accuracy: 0.9395\n",
            "Epoch 24/100\n",
            "938/938 [==============================] - 3s 3ms/step - loss: 0.2098 - accuracy: 0.9401\n",
            "Epoch 25/100\n",
            "938/938 [==============================] - 3s 3ms/step - loss: 0.2067 - accuracy: 0.9398\n",
            "Epoch 26/100\n",
            "938/938 [==============================] - 3s 3ms/step - loss: 0.1982 - accuracy: 0.9433\n",
            "Epoch 27/100\n",
            "938/938 [==============================] - 3s 3ms/step - loss: 0.1932 - accuracy: 0.9450\n",
            "Epoch 28/100\n",
            "938/938 [==============================] - 3s 3ms/step - loss: 0.1896 - accuracy: 0.9446\n",
            "Epoch 29/100\n",
            "938/938 [==============================] - 3s 3ms/step - loss: 0.1829 - accuracy: 0.9466\n",
            "Epoch 30/100\n",
            "938/938 [==============================] - 3s 3ms/step - loss: 0.1791 - accuracy: 0.9469\n",
            "Epoch 31/100\n",
            "938/938 [==============================] - 3s 3ms/step - loss: 0.1749 - accuracy: 0.9486\n",
            "Epoch 32/100\n",
            "938/938 [==============================] - 3s 3ms/step - loss: 0.1733 - accuracy: 0.9490\n",
            "Epoch 33/100\n",
            "938/938 [==============================] - 3s 3ms/step - loss: 0.1744 - accuracy: 0.9492\n",
            "Epoch 34/100\n",
            "938/938 [==============================] - 3s 4ms/step - loss: 0.1651 - accuracy: 0.9516\n",
            "Epoch 35/100\n",
            "938/938 [==============================] - 3s 4ms/step - loss: 0.1593 - accuracy: 0.9536\n",
            "Epoch 36/100\n",
            "938/938 [==============================] - 3s 3ms/step - loss: 0.1572 - accuracy: 0.9542\n",
            "Epoch 37/100\n",
            "938/938 [==============================] - 3s 3ms/step - loss: 0.1554 - accuracy: 0.9542\n",
            "Epoch 38/100\n",
            "938/938 [==============================] - 3s 3ms/step - loss: 0.1586 - accuracy: 0.9539\n",
            "Epoch 39/100\n",
            "938/938 [==============================] - 3s 3ms/step - loss: 0.1487 - accuracy: 0.9555\n",
            "Epoch 40/100\n",
            "938/938 [==============================] - 3s 3ms/step - loss: 0.1526 - accuracy: 0.9542\n",
            "Epoch 41/100\n",
            "938/938 [==============================] - 3s 3ms/step - loss: 0.1481 - accuracy: 0.9559\n",
            "Epoch 42/100\n",
            "938/938 [==============================] - 3s 4ms/step - loss: 0.1482 - accuracy: 0.9555\n",
            "Epoch 43/100\n",
            "938/938 [==============================] - 3s 4ms/step - loss: 0.1443 - accuracy: 0.9577\n",
            "Epoch 44/100\n",
            "938/938 [==============================] - 3s 3ms/step - loss: 0.1408 - accuracy: 0.9582\n",
            "Epoch 45/100\n",
            "938/938 [==============================] - 3s 3ms/step - loss: 0.1402 - accuracy: 0.9581\n",
            "Epoch 46/100\n",
            "938/938 [==============================] - 3s 3ms/step - loss: 0.1353 - accuracy: 0.9595\n",
            "Epoch 47/100\n",
            "938/938 [==============================] - 3s 3ms/step - loss: 0.1362 - accuracy: 0.9591\n",
            "Epoch 48/100\n",
            "938/938 [==============================] - 3s 3ms/step - loss: 0.1371 - accuracy: 0.9587\n",
            "Epoch 49/100\n",
            "938/938 [==============================] - 3s 3ms/step - loss: 0.1301 - accuracy: 0.9603\n",
            "Epoch 50/100\n",
            "938/938 [==============================] - 3s 3ms/step - loss: 0.1375 - accuracy: 0.9587\n",
            "Epoch 51/100\n",
            "938/938 [==============================] - 3s 3ms/step - loss: 0.1298 - accuracy: 0.9610\n",
            "Epoch 52/100\n",
            "938/938 [==============================] - 3s 3ms/step - loss: 0.1274 - accuracy: 0.9621\n",
            "Epoch 53/100\n",
            "938/938 [==============================] - 3s 3ms/step - loss: 0.1289 - accuracy: 0.9607\n",
            "Epoch 54/100\n",
            "938/938 [==============================] - 3s 3ms/step - loss: 0.1360 - accuracy: 0.9594\n",
            "Epoch 55/100\n",
            "938/938 [==============================] - 3s 3ms/step - loss: 0.1240 - accuracy: 0.9634\n",
            "Epoch 56/100\n",
            "938/938 [==============================] - 3s 3ms/step - loss: 0.1203 - accuracy: 0.9635\n",
            "Epoch 57/100\n",
            "938/938 [==============================] - 3s 3ms/step - loss: 0.1257 - accuracy: 0.9623\n",
            "Epoch 58/100\n",
            "938/938 [==============================] - 3s 3ms/step - loss: 0.1220 - accuracy: 0.9638\n",
            "Epoch 59/100\n",
            "938/938 [==============================] - 3s 3ms/step - loss: 0.1241 - accuracy: 0.9626\n",
            "Epoch 60/100\n",
            "938/938 [==============================] - 3s 3ms/step - loss: 0.1198 - accuracy: 0.9642\n",
            "Epoch 61/100\n",
            "938/938 [==============================] - 3s 3ms/step - loss: 0.1153 - accuracy: 0.9653\n",
            "Epoch 62/100\n",
            "938/938 [==============================] - 3s 3ms/step - loss: 0.1207 - accuracy: 0.9645\n",
            "Epoch 63/100\n",
            "938/938 [==============================] - 3s 3ms/step - loss: 0.1134 - accuracy: 0.9662\n",
            "Epoch 64/100\n",
            "938/938 [==============================] - 3s 3ms/step - loss: 0.1163 - accuracy: 0.9651\n",
            "Epoch 65/100\n",
            "938/938 [==============================] - 3s 3ms/step - loss: 0.1168 - accuracy: 0.9654\n",
            "Epoch 66/100\n",
            "938/938 [==============================] - 3s 3ms/step - loss: 0.1107 - accuracy: 0.9676\n",
            "Epoch 67/100\n",
            "938/938 [==============================] - 3s 4ms/step - loss: 0.1146 - accuracy: 0.9652\n",
            "Epoch 68/100\n",
            "938/938 [==============================] - 3s 4ms/step - loss: 0.1102 - accuracy: 0.9673\n",
            "Epoch 69/100\n",
            "938/938 [==============================] - 3s 4ms/step - loss: 0.1104 - accuracy: 0.9665\n",
            "Epoch 70/100\n",
            "938/938 [==============================] - 3s 4ms/step - loss: 0.1144 - accuracy: 0.9658\n",
            "Epoch 71/100\n",
            "938/938 [==============================] - 3s 4ms/step - loss: 0.1093 - accuracy: 0.9672\n",
            "Epoch 72/100\n",
            "938/938 [==============================] - 3s 3ms/step - loss: 0.1072 - accuracy: 0.9675\n",
            "Epoch 73/100\n",
            "938/938 [==============================] - 3s 3ms/step - loss: 0.1034 - accuracy: 0.9691\n",
            "Epoch 74/100\n",
            "938/938 [==============================] - 3s 3ms/step - loss: 0.1073 - accuracy: 0.9673\n",
            "Epoch 75/100\n",
            "938/938 [==============================] - 3s 3ms/step - loss: 0.1108 - accuracy: 0.9675\n",
            "Epoch 76/100\n",
            "938/938 [==============================] - 3s 3ms/step - loss: 0.1022 - accuracy: 0.9693\n",
            "Epoch 77/100\n",
            "938/938 [==============================] - 3s 3ms/step - loss: 0.1012 - accuracy: 0.9694\n",
            "Epoch 78/100\n",
            "938/938 [==============================] - 3s 4ms/step - loss: 0.1050 - accuracy: 0.9691\n",
            "Epoch 79/100\n",
            "938/938 [==============================] - 3s 3ms/step - loss: 0.1072 - accuracy: 0.9677\n",
            "Epoch 80/100\n",
            "938/938 [==============================] - 3s 3ms/step - loss: 0.1006 - accuracy: 0.9700\n",
            "Epoch 81/100\n",
            "938/938 [==============================] - 3s 3ms/step - loss: 0.1002 - accuracy: 0.9703\n",
            "Epoch 82/100\n",
            "938/938 [==============================] - 3s 4ms/step - loss: 0.0985 - accuracy: 0.9711\n",
            "Epoch 83/100\n",
            "938/938 [==============================] - 3s 3ms/step - loss: 0.0971 - accuracy: 0.9713\n",
            "Epoch 84/100\n",
            "938/938 [==============================] - 3s 3ms/step - loss: 0.0940 - accuracy: 0.9718\n",
            "Epoch 85/100\n",
            "938/938 [==============================] - 3s 3ms/step - loss: 0.1011 - accuracy: 0.9697\n",
            "Epoch 86/100\n",
            "938/938 [==============================] - 3s 3ms/step - loss: 0.0994 - accuracy: 0.9698\n",
            "Epoch 87/100\n",
            "938/938 [==============================] - 3s 3ms/step - loss: 0.0955 - accuracy: 0.9716\n",
            "Epoch 88/100\n",
            "938/938 [==============================] - 3s 3ms/step - loss: 0.0966 - accuracy: 0.9716\n",
            "Epoch 89/100\n",
            "938/938 [==============================] - 3s 3ms/step - loss: 0.0962 - accuracy: 0.9711\n",
            "Epoch 90/100\n",
            "938/938 [==============================] - 3s 3ms/step - loss: 0.0919 - accuracy: 0.9725\n",
            "Epoch 91/100\n",
            "938/938 [==============================] - 3s 3ms/step - loss: 0.0932 - accuracy: 0.9715\n",
            "Epoch 92/100\n",
            "938/938 [==============================] - 3s 3ms/step - loss: 0.0920 - accuracy: 0.9724\n",
            "Epoch 93/100\n",
            "938/938 [==============================] - 3s 3ms/step - loss: 0.0897 - accuracy: 0.9724\n",
            "Epoch 94/100\n",
            "938/938 [==============================] - 3s 3ms/step - loss: 0.0927 - accuracy: 0.9722\n",
            "Epoch 95/100\n",
            "938/938 [==============================] - 3s 3ms/step - loss: 0.0918 - accuracy: 0.9723\n",
            "Epoch 96/100\n",
            "938/938 [==============================] - 3s 3ms/step - loss: 0.0887 - accuracy: 0.9733\n",
            "Epoch 97/100\n",
            "938/938 [==============================] - 3s 3ms/step - loss: 0.0912 - accuracy: 0.9728\n",
            "Epoch 98/100\n",
            "938/938 [==============================] - 3s 3ms/step - loss: 0.0874 - accuracy: 0.9736\n",
            "Epoch 99/100\n",
            "938/938 [==============================] - 3s 3ms/step - loss: 0.0879 - accuracy: 0.9729\n",
            "Epoch 100/100\n",
            "938/938 [==============================] - 3s 3ms/step - loss: 0.0885 - accuracy: 0.9735\n"
          ]
        },
        {
          "output_type": "execute_result",
          "data": {
            "text/plain": [
              "<keras.callbacks.History at 0x7f5a1456cf10>"
            ]
          },
          "metadata": {},
          "execution_count": 129
        }
      ],
      "source": [
        "model.fit(x_train, y_train, batch_size=batch_size, epochs=epochs)"
      ]
    },
    {
      "cell_type": "code",
      "source": [
        "if(debugPostTrainWeights):\n",
        "    testwritefile = open('weightsPostTrain.txt', 'w')\n",
        "    for layerIndex, layer in enumerate(model.layers):\n",
        "        heading = \"\\n\" + \"layer = \" + str(layerIndex) + \"\\n\"\n",
        "        testwritefile.write(heading)\n",
        "        #print(heading)\n",
        "        weights = layer.get_weights()\n",
        "        #print(weights)\n",
        "        weightsS =  str(weights)\n",
        "        testwritefile.write(weightsS)\n",
        "    testwritefile.close()"
      ],
      "metadata": {
        "id": "nyUVIVzvNz3o"
      },
      "execution_count": 130,
      "outputs": []
    },
    {
      "cell_type": "code",
      "source": [
        "if(debugPostTrainOutputs):\n",
        "    testwritefile = open('outputPostTrain.txt', 'w')\n",
        "    xTrainFirstSample = np.expand_dims(x_train[0], axis=0)\n",
        "    for layerIndex, layer in enumerate(model.layers):\n",
        "        heading = \"\\n\" + \"layer = \" + str(layerIndex) + \"\\n\"\n",
        "        #print(heading)\n",
        "        testwritefile.write(heading)\n",
        "        func = K.function([model.get_layer(index=0).input], layer.output)\n",
        "        layerOutput = func([xTrainFirstSample])  # input_data is a numpy array\n",
        "        #print(layerOutput)\n",
        "        layerOutputS = str(layerOutput)  #tf.tensor.toString(layerOutput)    #layerOutput.tostring()\n",
        "        testwritefile.write(layerOutputS)\n",
        "    testwritefile.close()"
      ],
      "metadata": {
        "id": "wkFMMGAV3DvD"
      },
      "execution_count": 131,
      "outputs": []
    },
    {
      "cell_type": "markdown",
      "source": [
        "## Evaluate model"
      ],
      "metadata": {
        "id": "yp1IpSBHYGpV"
      }
    },
    {
      "cell_type": "code",
      "execution_count": 132,
      "metadata": {
        "id": "F7dTAzgHDUh7",
        "colab": {
          "base_uri": "https://localhost:8080/"
        },
        "outputId": "511c4376-7524-4f91-b426-f4161833fa06"
      },
      "outputs": [
        {
          "output_type": "stream",
          "name": "stdout",
          "text": [
            "313/313 - 1s - loss: 0.1893 - accuracy: 0.9589 - 674ms/epoch - 2ms/step\n"
          ]
        },
        {
          "output_type": "execute_result",
          "data": {
            "text/plain": [
              "[0.1892823576927185, 0.958899974822998]"
            ]
          },
          "metadata": {},
          "execution_count": 132
        }
      ],
      "source": [
        "model.evaluate(x_test,  y_test, verbose=2)"
      ]
    },
    {
      "cell_type": "code",
      "execution_count": 133,
      "metadata": {
        "id": "rYb6DrEH0GMv"
      },
      "outputs": [],
      "source": [
        "probability_model = tf.keras.Sequential([\n",
        "  model,\n",
        "  tf.keras.layers.Softmax()\n",
        "])"
      ]
    },
    {
      "cell_type": "code",
      "execution_count": 134,
      "metadata": {
        "id": "cnqOZtUp1YR_",
        "colab": {
          "base_uri": "https://localhost:8080/"
        },
        "outputId": "2c3a4d5d-2e58-4500-ad14-f532fdc939ea"
      },
      "outputs": [
        {
          "output_type": "execute_result",
          "data": {
            "text/plain": [
              "<tf.Tensor: shape=(5, 10), dtype=float32, numpy=\n",
              "array([[0.08533758, 0.08533758, 0.08534266, 0.08533809, 0.08533758,\n",
              "        0.08533758, 0.08533758, 0.23195612, 0.08533765, 0.08533762],\n",
              "       [0.08533712, 0.08533733, 0.23196337, 0.08533712, 0.08533712,\n",
              "        0.08533712, 0.08533712, 0.08533712, 0.08533946, 0.08533712],\n",
              "       [0.08533711, 0.23196352, 0.08533711, 0.08533711, 0.08533711,\n",
              "        0.08533711, 0.08533711, 0.08533889, 0.08533781, 0.08533711],\n",
              "       [0.23196234, 0.08533719, 0.08533719, 0.08533719, 0.08533724,\n",
              "        0.08533719, 0.08534002, 0.08533719, 0.08533719, 0.0853373 ],\n",
              "       [0.08534024, 0.08534024, 0.08534024, 0.08534024, 0.23191398,\n",
              "        0.08534024, 0.08534024, 0.08534025, 0.08534024, 0.08536408]],\n",
              "      dtype=float32)>"
            ]
          },
          "metadata": {},
          "execution_count": 134
        }
      ],
      "source": [
        "probability_model(x_test[:5])"
      ]
    }
  ],
  "metadata": {
    "colab": {
      "collapsed_sections": [],
      "provenance": [],
      "machine_shape": "hm"
    },
    "kernelspec": {
      "display_name": "Python 3",
      "name": "python3"
    },
    "accelerator": "GPU",
    "gpuClass": "standard"
  },
  "nbformat": 4,
  "nbformat_minor": 0
}