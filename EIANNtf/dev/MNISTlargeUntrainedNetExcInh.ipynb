{
  "cells": [
    {
      "cell_type": "markdown",
      "metadata": {
        "id": "3wF5wszaj97Y"
      },
      "source": [
        "# MNIST Large Untrained Net Exc Inh"
      ]
    },
    {
      "cell_type": "markdown",
      "metadata": {
        "id": "04QgGZc9bF5D"
      },
      "source": [
        "Derived from https://github.com/tensorflow/docs/blob/master/site/en/tutorials/quickstart/beginner.ipynb"
      ]
    },
    {
      "cell_type": "code",
      "execution_count": 104,
      "metadata": {
        "id": "0trJmd6DjqBZ",
        "colab": {
          "base_uri": "https://localhost:8080/"
        },
        "outputId": "4208b0c5-f20e-466d-fa02-1cbedb9b820d"
      },
      "outputs": [
        {
          "output_type": "stream",
          "name": "stdout",
          "text": [
            "TensorFlow version: 2.8.2\n"
          ]
        }
      ],
      "source": [
        "import tensorflow as tf\n",
        "print(\"TensorFlow version:\", tf.__version__)\n",
        "from keras import backend as K\n",
        "#print(\"keras version:\",tf.keras.__version__)"
      ]
    },
    {
      "cell_type": "markdown",
      "metadata": {
        "id": "pGfQXr--YeL7"
      },
      "source": [
        "## Load data"
      ]
    },
    {
      "cell_type": "code",
      "execution_count": 105,
      "metadata": {
        "id": "7FP5258xjs-v"
      },
      "outputs": [],
      "source": [
        "mnist = tf.keras.datasets.mnist\n",
        "\n",
        "(x_train, y_train), (x_test, y_test) = mnist.load_data()\n",
        "x_train, x_test = x_train / 255.0, x_test / 255.0"
      ]
    },
    {
      "cell_type": "markdown",
      "metadata": {
        "id": "BPZ68wASog_I"
      },
      "source": [
        "## Define model"
      ]
    },
    {
      "cell_type": "code",
      "source": [
        "def activationExcitatory(x):\n",
        "    return K.maximum(x, 0)  #ReLU\n",
        "\n",
        "def activationInhibitory(x):\n",
        "    return -(K.maximum(x, 0))   #ReLU with negative output\n",
        "\n",
        "def excitatoryNeuronInitializer(shape, dtype=None):\n",
        "    return tf.math.abs(tf.random.normal(shape, dtype=dtype))\n",
        "\n",
        "def inhibitoryNeuronInitializer(shape, dtype=None):\n",
        "    #return tf.math.negative(tf.math.abs(tf.random.normal(shape, dtype=dtype)))\n",
        "    return tf.math.abs(tf.random.normal(shape, dtype=dtype))\n"
      ],
      "metadata": {
        "id": "bcEe88PrSf5h"
      },
      "execution_count": 106,
      "outputs": []
    },
    {
      "cell_type": "code",
      "execution_count": 107,
      "metadata": {
        "id": "h3IKyzTCDNGo"
      },
      "outputs": [],
      "source": [
        "input_shape = (28, 28)\n",
        "num_classes = 10\n",
        "\n",
        "positiveWeightImplementation = True\t#mandatory (only implementation)\n",
        "if(positiveWeightImplementation):\n",
        "    weightConstraint = tf.keras.constraints.non_neg()\n",
        "    positiveWeightImplementationBiases = True   #ensure positive biases also\n",
        "    if(positiveWeightImplementationBiases):\n",
        "        biasConstraint = tf.keras.constraints.non_neg()\n",
        "        positiveWeightImplementationBiasesLastLayer = False\n",
        "        if(positiveWeightImplementationBiasesLastLayer):\n",
        "            biasConstraintLastLayer = tf.keras.constraints.non_neg()\n",
        "        else:\n",
        "            biasConstraintLastLayer = None\n",
        "    else:\n",
        "        biasConstraint = None\n",
        "\n",
        "generateUntrainedNetwork = False\n",
        "if(generateUntrainedNetwork):\n",
        "    #only train the last layer\n",
        "    generateLargeNetwork = True\n",
        "    numberOfHiddenLayers = 2\n",
        "else:\n",
        "    generateLargeNetwork = False\n",
        "    numberOfHiddenLayers = 2\n",
        "\n",
        "if(generateLargeNetwork):\n",
        "    generateLargeNetworkRatio = 50\n",
        "    layerRatio = generateLargeNetworkRatio\n",
        "else:\n",
        "    layerRatio = 1\n",
        "\n",
        "x = tf.keras.layers.Input(shape=input_shape)\n",
        "h0 = tf.keras.layers.Flatten()(x)\n",
        "\n",
        "hLast = h0\n",
        "if(numberOfHiddenLayers >= 1):\n",
        "    h1E = tf.keras.layers.Dense(128*layerRatio, kernel_initializer=excitatoryNeuronInitializer, kernel_constraint=weightConstraint, bias_constraint=biasConstraint)(h0)\n",
        "    h1I = tf.keras.layers.Dense(128*layerRatio, kernel_initializer=inhibitoryNeuronInitializer, kernel_constraint=weightConstraint, bias_constraint=biasConstraint)(h0)\n",
        "    h1E = tf.keras.layers.Activation(activationExcitatory)(h1E)\n",
        "    h1I = tf.keras.layers.Activation(activationInhibitory)(h1I)\n",
        "    h1 = tf.keras.layers.Concatenate()([h1E, h1I])\n",
        "    hLast = h1\n",
        "if(numberOfHiddenLayers >= 2):\n",
        "    h2E = tf.keras.layers.Dense(128*layerRatio, kernel_initializer=excitatoryNeuronInitializer, kernel_constraint=weightConstraint, bias_constraint=biasConstraint)(h1)\n",
        "    h2I = tf.keras.layers.Dense(128*layerRatio, kernel_initializer=inhibitoryNeuronInitializer, kernel_constraint=weightConstraint, bias_constraint=biasConstraint)(h1)\n",
        "    h2E = tf.keras.layers.Activation(activationExcitatory)(h2E)\n",
        "    h2I = tf.keras.layers.Activation(activationInhibitory)(h2I)\n",
        "    h2 = tf.keras.layers.Concatenate()([h2E, h2I])\n",
        "    hLast = h2\n",
        "if(numberOfHiddenLayers >= 3):\n",
        "    h3E = tf.keras.layers.Dense(128*layerRatio, kernel_initializer=excitatoryNeuronInitializer, kernel_constraint=weightConstraint, bias_constraint=biasConstraint)(h2)\n",
        "    h3I = tf.keras.layers.Dense(128*layerRatio, kernel_initializer=inhibitoryNeuronInitializer, kernel_constraint=weightConstraint, bias_constraint=biasConstraint)(h2)\n",
        "    h3E = tf.keras.layers.Activation(activationExcitatory)(h3E)\n",
        "    h3I = tf.keras.layers.Activation(activationInhibitory)(h3I)\n",
        "    h3 = tf.keras.layers.Concatenate()([h3E, h3I])\n",
        "    hLast = h3\n",
        "\n",
        "if(generateUntrainedNetwork):\n",
        "    hLast = tf.keras.layers.Lambda(lambda x: tf.keras.backend.stop_gradient(x))(hLast)\n",
        "y = tf.keras.layers.Dense(num_classes, activation='softmax', kernel_constraint=weightConstraint, bias_constraint=biasConstraintLastLayer)(hLast)\n",
        "model = tf.keras.Model(x, y)\n",
        "\n",
        "#print(model.summary())\n",
        "#model.compile(optimizer=tf.keras.optimizers.RMSprop(epsilon=1e-08), loss='categorical_crossentropy', metrics=['acc'])\n",
        "#evaluation accuracy: ? (with 1 or 2 hidden layers)\n"
      ]
    },
    {
      "cell_type": "code",
      "execution_count": 108,
      "metadata": {
        "id": "RSkzdv8MD0tT"
      },
      "outputs": [],
      "source": [
        "loss_fn = tf.keras.losses.SparseCategoricalCrossentropy(from_logits=True)"
      ]
    },
    {
      "cell_type": "code",
      "execution_count": 109,
      "metadata": {
        "id": "9foNKHzTD2Vo",
        "colab": {
          "base_uri": "https://localhost:8080/"
        },
        "outputId": "e29858cf-1724-406c-da42-4369ccb2ebd4"
      },
      "outputs": [
        {
          "output_type": "stream",
          "name": "stdout",
          "text": [
            "Model: \"model_10\"\n",
            "__________________________________________________________________________________________________\n",
            " Layer (type)                   Output Shape         Param #     Connected to                     \n",
            "==================================================================================================\n",
            " input_12 (InputLayer)          [(None, 28, 28)]     0           []                               \n",
            "                                                                                                  \n",
            " flatten_11 (Flatten)           (None, 784)          0           ['input_12[0][0]']               \n",
            "                                                                                                  \n",
            " dense_50 (Dense)               (None, 128)          100480      ['flatten_11[0][0]']             \n",
            "                                                                                                  \n",
            " dense_51 (Dense)               (None, 128)          100480      ['flatten_11[0][0]']             \n",
            "                                                                                                  \n",
            " activation_40 (Activation)     (None, 128)          0           ['dense_50[0][0]']               \n",
            "                                                                                                  \n",
            " activation_41 (Activation)     (None, 128)          0           ['dense_51[0][0]']               \n",
            "                                                                                                  \n",
            " concatenate_20 (Concatenate)   (None, 256)          0           ['activation_40[0][0]',          \n",
            "                                                                  'activation_41[0][0]']          \n",
            "                                                                                                  \n",
            " dense_52 (Dense)               (None, 128)          32896       ['concatenate_20[0][0]']         \n",
            "                                                                                                  \n",
            " dense_53 (Dense)               (None, 128)          32896       ['concatenate_20[0][0]']         \n",
            "                                                                                                  \n",
            " activation_42 (Activation)     (None, 128)          0           ['dense_52[0][0]']               \n",
            "                                                                                                  \n",
            " activation_43 (Activation)     (None, 128)          0           ['dense_53[0][0]']               \n",
            "                                                                                                  \n",
            " concatenate_21 (Concatenate)   (None, 256)          0           ['activation_42[0][0]',          \n",
            "                                                                  'activation_43[0][0]']          \n",
            "                                                                                                  \n",
            " dense_54 (Dense)               (None, 10)           2570        ['concatenate_21[0][0]']         \n",
            "                                                                                                  \n",
            "==================================================================================================\n",
            "Total params: 269,322\n",
            "Trainable params: 269,322\n",
            "Non-trainable params: 0\n",
            "__________________________________________________________________________________________________\n",
            "None\n"
          ]
        }
      ],
      "source": [
        "model.compile(optimizer='adam',\n",
        "              loss=loss_fn,\n",
        "              metrics=['accuracy'])\n",
        "\n",
        "print(model.summary())"
      ]
    },
    {
      "cell_type": "code",
      "source": [
        "for i, layer in enumerate(model.layers):\n",
        "    weights = layer.get_weights()\n",
        "    #print(\"weights = \", weights)"
      ],
      "metadata": {
        "id": "lMRPqm-3d99W"
      },
      "execution_count": 110,
      "outputs": []
    },
    {
      "cell_type": "markdown",
      "source": [
        "## Train model"
      ],
      "metadata": {
        "id": "5lJZhEkFYCtL"
      }
    },
    {
      "cell_type": "code",
      "execution_count": 111,
      "metadata": {
        "id": "y7suUbJXVLqP",
        "colab": {
          "base_uri": "https://localhost:8080/"
        },
        "outputId": "6df4db3a-db96-4ccd-8a07-2b40fe928cf7"
      },
      "outputs": [
        {
          "output_type": "stream",
          "name": "stdout",
          "text": [
            "Epoch 1/5\n",
            "1875/1875 [==============================] - 12s 6ms/step - loss: 8.0635 - accuracy: 0.7226\n",
            "Epoch 2/5\n",
            "1875/1875 [==============================] - 12s 6ms/step - loss: 1.4611 - accuracy: 0.8376\n",
            "Epoch 3/5\n",
            "1875/1875 [==============================] - 12s 6ms/step - loss: 0.6938 - accuracy: 0.8617\n",
            "Epoch 4/5\n",
            "1875/1875 [==============================] - 12s 6ms/step - loss: 0.3996 - accuracy: 0.8893\n",
            "Epoch 5/5\n",
            "1875/1875 [==============================] - 12s 6ms/step - loss: 0.3254 - accuracy: 0.9054\n"
          ]
        },
        {
          "output_type": "execute_result",
          "data": {
            "text/plain": [
              "<keras.callbacks.History at 0x7f7a4eb28950>"
            ]
          },
          "metadata": {},
          "execution_count": 111
        }
      ],
      "source": [
        "model.fit(x_train, y_train, epochs=5)"
      ]
    },
    {
      "cell_type": "code",
      "source": [
        "for i, layer in enumerate(model.layers):\n",
        "    weights = layer.get_weights()\n",
        "    #print(\"weights = \", weights)"
      ],
      "metadata": {
        "id": "FAQw0rvCd4Wt"
      },
      "execution_count": 112,
      "outputs": []
    },
    {
      "cell_type": "code",
      "source": [],
      "metadata": {
        "id": "EpNwoMvgfRQL"
      },
      "execution_count": 112,
      "outputs": []
    },
    {
      "cell_type": "markdown",
      "source": [
        "## Evaluate model"
      ],
      "metadata": {
        "id": "yp1IpSBHYGpV"
      }
    },
    {
      "cell_type": "code",
      "execution_count": 113,
      "metadata": {
        "id": "F7dTAzgHDUh7",
        "colab": {
          "base_uri": "https://localhost:8080/"
        },
        "outputId": "21ba0d93-1171-4f6b-e5cf-29029f6162e4"
      },
      "outputs": [
        {
          "output_type": "stream",
          "name": "stdout",
          "text": [
            "313/313 - 1s - loss: 0.3614 - accuracy: 0.8848 - 688ms/epoch - 2ms/step\n"
          ]
        },
        {
          "output_type": "execute_result",
          "data": {
            "text/plain": [
              "[0.3614092171192169, 0.8848000168800354]"
            ]
          },
          "metadata": {},
          "execution_count": 113
        }
      ],
      "source": [
        "model.evaluate(x_test,  y_test, verbose=2)"
      ]
    },
    {
      "cell_type": "code",
      "execution_count": 114,
      "metadata": {
        "id": "rYb6DrEH0GMv"
      },
      "outputs": [],
      "source": [
        "probability_model = tf.keras.Sequential([\n",
        "  model,\n",
        "  tf.keras.layers.Softmax()\n",
        "])"
      ]
    },
    {
      "cell_type": "code",
      "execution_count": 115,
      "metadata": {
        "id": "cnqOZtUp1YR_",
        "colab": {
          "base_uri": "https://localhost:8080/"
        },
        "outputId": "c26d24bd-ab3a-4ab8-8adc-13659c746598"
      },
      "outputs": [
        {
          "output_type": "execute_result",
          "data": {
            "text/plain": [
              "<tf.Tensor: shape=(5, 10), dtype=float32, numpy=\n",
              "array([[0.0853469 , 0.0853469 , 0.08534728, 0.08540992, 0.0853469 ,\n",
              "        0.08534729, 0.0853469 , 0.2318087 , 0.0853469 , 0.0853524 ],\n",
              "       [0.08846652, 0.08824223, 0.1812067 , 0.09316508, 0.08811232,\n",
              "        0.1010511 , 0.08941285, 0.08823032, 0.09398124, 0.08813164],\n",
              "       [0.08537503, 0.23136264, 0.08537775, 0.08538289, 0.0853762 ,\n",
              "        0.08538847, 0.08537746, 0.08553106, 0.08543802, 0.08539046],\n",
              "       [0.16860355, 0.08853342, 0.09713642, 0.08910637, 0.08852744,\n",
              "        0.08994108, 0.08852763, 0.11245561, 0.08857624, 0.08859228],\n",
              "       [0.08868405, 0.08871052, 0.08880783, 0.08877318, 0.1480955 ,\n",
              "        0.08883302, 0.08897909, 0.09024849, 0.08914426, 0.13972399]],\n",
              "      dtype=float32)>"
            ]
          },
          "metadata": {},
          "execution_count": 115
        }
      ],
      "source": [
        "probability_model(x_test[:5])"
      ]
    }
  ],
  "metadata": {
    "colab": {
      "collapsed_sections": [],
      "provenance": []
    },
    "kernelspec": {
      "display_name": "Python 3",
      "name": "python3"
    }
  },
  "nbformat": 4,
  "nbformat_minor": 0
}