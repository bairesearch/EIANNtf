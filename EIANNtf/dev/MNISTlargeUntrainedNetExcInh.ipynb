{
  "cells": [
    {
      "cell_type": "markdown",
      "metadata": {
        "id": "3wF5wszaj97Y"
      },
      "source": [
        "# MNIST Large Untrained Net Exc Inh"
      ]
    },
    {
      "cell_type": "markdown",
      "metadata": {
        "id": "04QgGZc9bF5D"
      },
      "source": [
        "Derived from https://github.com/tensorflow/docs/blob/master/site/en/tutorials/quickstart/beginner.ipynb"
      ]
    },
    {
      "cell_type": "code",
      "execution_count": 209,
      "metadata": {
        "id": "0trJmd6DjqBZ",
        "colab": {
          "base_uri": "https://localhost:8080/"
        },
        "outputId": "51a920bc-f834-4a21-efab-d30a5b9618de"
      },
      "outputs": [
        {
          "output_type": "stream",
          "name": "stdout",
          "text": [
            "TensorFlow version: 2.8.2\n"
          ]
        }
      ],
      "source": [
        "import tensorflow as tf\n",
        "print(\"TensorFlow version:\", tf.__version__)\n",
        "from keras import backend as K\n",
        "#print(\"keras version:\",tf.keras.__version__)"
      ]
    },
    {
      "cell_type": "code",
      "source": [
        "import numpy as np\n",
        "import sys\n",
        "np.set_printoptions(threshold=sys.maxsize)"
      ],
      "metadata": {
        "id": "36nIv8fWBeuV"
      },
      "execution_count": 210,
      "outputs": []
    },
    {
      "cell_type": "code",
      "source": [
        "positiveWeightImplementation = False\t#orig: True\n",
        "if(not positiveWeightImplementation):\n",
        "    integrateWeights = True\n",
        "    if(integrateWeights):\n",
        "        integrateWeights1 = False    #explicitly declare E/I neurons\n",
        "        integrateWeights2 = True    #implicitly declare E/I neurons \n",
        "        integrateWeightsInitialiseZero = True   #improves training performance\n",
        "\n",
        "generateUntrainedNetwork = False\n",
        "if(generateUntrainedNetwork):\n",
        "    #only train the last layer\n",
        "    numberOfHiddenLayers = 2    #default: 2    #if 0 then useSVM=True\n",
        "else:\n",
        "    numberOfHiddenLayers = 2    #default: 2\n",
        "\n",
        "if(numberOfHiddenLayers > 1):\n",
        "    addSkipLayers = False   #optional\n",
        "else:\n",
        "    addSkipLayers = False   #mandatory\n",
        "\n",
        "layerSizeBase = 128  #default: 128\n",
        "\n",
        "batch_size = 64 #default: 64\n",
        "epochs = 5  #1  #5\n",
        "\n",
        "debugNoEIneurons = False\n",
        "debugPreTrainWeights = True\n",
        "debugPreTrainOutputs = True\n",
        "debugPostTrainWeights = True\n",
        "debugPostTrainOutputs = True"
      ],
      "metadata": {
        "id": "cq_TphnxNEe8"
      },
      "execution_count": 211,
      "outputs": []
    },
    {
      "cell_type": "markdown",
      "metadata": {
        "id": "pGfQXr--YeL7"
      },
      "source": [
        "## Load data"
      ]
    },
    {
      "cell_type": "code",
      "execution_count": 212,
      "metadata": {
        "id": "7FP5258xjs-v",
        "colab": {
          "base_uri": "https://localhost:8080/"
        },
        "outputId": "5d931b4f-54ef-4bde-ea7c-89d33cc8f812"
      },
      "outputs": [
        {
          "output_type": "stream",
          "name": "stdout",
          "text": [
            "x_train.shape =  (60000, 28, 28)\n"
          ]
        }
      ],
      "source": [
        "mnist = tf.keras.datasets.mnist\n",
        "\n",
        "(x_train, y_train), (x_test, y_test) = mnist.load_data()\n",
        "x_train, x_test = x_train / 255.0, x_test / 255.0\n",
        "\n",
        "print(\"x_train.shape = \", x_train.shape)\n",
        "\n",
        "input_shape = (28, 28)"
      ]
    },
    {
      "cell_type": "markdown",
      "metadata": {
        "id": "BPZ68wASog_I"
      },
      "source": [
        "## Define model"
      ]
    },
    {
      "cell_type": "code",
      "source": [
        "def activation(x):\n",
        "    return K.maximum(x, 0)  #ReLU\n",
        "    \n",
        "def activationExcitatory(x):\n",
        "    return K.maximum(x, 0)  #ReLU\n",
        "\n",
        "def activationInhibitory(x):\n",
        "    if(positiveWeightImplementation):\n",
        "        return -(K.maximum(x, 0))   #ReLU with negative output\n",
        "    else:\n",
        "        return K.maximum(x, 0)  #ReLU\n",
        "\n",
        "def neuronInitializer(shape, dtype=None):\n",
        "    if(positiveWeightImplementation):\n",
        "        print(\"neuronInitializer error: requires !positiveWeightImplementation:integrateWeights\")\n",
        "    else:\n",
        "        if(integrateWeights):\n",
        "            if(integrateWeightsInitialiseZero):\n",
        "                w = tf.zeros(shape, dtype=dtype)    #tf.math.abs(tf.random.normal(shape, dtype=dtype))\n",
        "            else:\n",
        "                w = tf.math.abs(tf.random.normal(shape, dtype=dtype))\n",
        "                wEIsize = w.shape[0]//2\n",
        "                wSignE = tf.ones([wEIsize, w.shape[1]])\n",
        "                wSignI = tf.ones([wEIsize, w.shape[1]])\n",
        "                wSignI = tf.multiply(wSignI, -1)\n",
        "                wSign = tf.concat([wSignE, wSignI], axis=0)\n",
        "                w = tf.multiply(w, wSign)\n",
        "        else:\n",
        "            print(\"neuronInitializer error: requires !positiveWeightImplementation:integrateWeights\")\n",
        "    return w\n",
        "\n",
        "def excitatoryNeuronInitializer(shape, dtype=None):\n",
        "    return tf.math.abs(tf.random.normal(shape, dtype=dtype))\n",
        "\n",
        "def inhibitoryNeuronInitializer(shape, dtype=None):\n",
        "    if(positiveWeightImplementation):\n",
        "        return tf.math.abs(tf.random.normal(shape, dtype=dtype))\n",
        "    else:\n",
        "        return tf.math.negative(tf.math.abs(tf.random.normal(shape, dtype=dtype)))\n",
        "\n",
        "class negative(tf.keras.constraints.Constraint):\n",
        "    #based on https://www.tensorflow.org/api_docs/python/tf/keras/constraints/Constraint\n",
        "    def __init__(self):\n",
        "        pass\n",
        "    def __call__(self, w):\n",
        "        return w * tf.cast(tf.math.less_equal(w, 0.), w.dtype)\n",
        "\n",
        "class positiveOrNegative(tf.keras.constraints.Constraint):\n",
        "    #based on https://www.tensorflow.org/api_docs/python/tf/keras/constraints/Constraint\n",
        "    def __init__(self):\n",
        "        pass\n",
        "    def __call__(self, w):\n",
        "        w_shape = w.shape\n",
        "        wEIsize = w.shape[0]//2\n",
        "        wE = w[0:wEIsize]\n",
        "        wI = w[wEIsize:]\n",
        "        wEcheck = tf.greater_equal(wE, 0)\n",
        "        wIcheck = tf.less_equal(wI, 0)\n",
        "        wEcheck = tf.cast(wEcheck, tf.float32)\n",
        "        wIcheck = tf.cast(wIcheck, tf.float32)\n",
        "        wE = tf.multiply(wE, wEcheck)\n",
        "        wI = tf.multiply(wI, wIcheck)\n",
        "        w = tf.concat([wE, wI], axis=0)\n",
        "        return w\n"
      ],
      "metadata": {
        "id": "bcEe88PrSf5h"
      },
      "execution_count": 213,
      "outputs": []
    },
    {
      "cell_type": "code",
      "execution_count": 214,
      "metadata": {
        "id": "h3IKyzTCDNGo"
      },
      "outputs": [],
      "source": [
        "num_classes = 10\n",
        "\n",
        "if(positiveWeightImplementation):\n",
        "    weightConstraint = tf.keras.constraints.non_neg()\n",
        "    constrainBiases = True   #ensure positive biases also\n",
        "    if(constrainBiases):\n",
        "        biasConstraint = tf.keras.constraints.non_neg()\n",
        "        constrainBiasesLastLayer = False\n",
        "        if(constrainBiasesLastLayer):\n",
        "            biasConstraintLastLayer = tf.keras.constraints.non_neg()\n",
        "        else:\n",
        "            biasConstraintLastLayer = None\n",
        "    else:\n",
        "        biasConstraint = None\n",
        "        biasConstraintLastLayer = None\n",
        "    weightConstraintLastLayer = weightConstraint\n",
        "else:\n",
        "    if(integrateWeights):\n",
        "        weightConstraint = positiveOrNegative()\n",
        "        biasConstraint = None\n",
        "        weightConstraintLastLayer = None\n",
        "        biasConstraintLastLayer = None\n",
        "    else:\n",
        "        weightConstraintPositive = tf.keras.constraints.non_neg()\n",
        "        weightConstraintNegative = negative()\n",
        "        constrainBiases = False\n",
        "        if(constrainBiases):\n",
        "            biasConstraintPositive = tf.keras.constraints.non_neg()\n",
        "            biasConstraintNegative = negative()\n",
        "        else:\n",
        "            biasConstraintPositive = None\n",
        "            biasConstraintNegative = None\n",
        "        weightConstraintLastLayer = None\n",
        "        biasConstraintLastLayer = None\n",
        "\n",
        "if(generateUntrainedNetwork):\n",
        "    #only train the last layer\n",
        "    generateLargeNetwork = True\n",
        "else:\n",
        "    generateLargeNetwork = False\n",
        "\n",
        "\n",
        "if(generateLargeNetwork):\n",
        "    generateLargeNetworkRatio = 50\n",
        "    layerRatio = generateLargeNetworkRatio\n",
        "else:\n",
        "    layerRatio = 1  #10 #1\n",
        "\n",
        "def createEIlayer(layerIndex, h0, firstLayer=False):\n",
        "    if(debugNoEIneurons):\n",
        "        h1E = tf.keras.layers.Dense(layerSizeBase*layerRatio)(h0)   #excitatory neuron inputs\n",
        "        h1I = tf.keras.layers.Dense(layerSizeBase*layerRatio)(h0)   #inhibitory neuron inputs   \n",
        "        h1E = tf.keras.layers.Activation(activationExcitatory)(h1E)\n",
        "        h1I = tf.keras.layers.Activation(activationInhibitory)(h1I)\n",
        "        h1 = tf.keras.layers.Concatenate()([h1E, h1I])  \n",
        "    else:\n",
        "        if(positiveWeightImplementation):\n",
        "            h1E = tf.keras.layers.Dense(layerSizeBase*layerRatio, kernel_initializer=excitatoryNeuronInitializer, kernel_constraint=weightConstraint, bias_constraint=biasConstraint)(h0)\n",
        "            h1I = tf.keras.layers.Dense(layerSizeBase*layerRatio, kernel_initializer=inhibitoryNeuronInitializer, kernel_constraint=weightConstraint, bias_constraint=biasConstraint)(h0)\n",
        "            h1E = tf.keras.layers.Activation(activationExcitatory)(h1E)\n",
        "            h1I = tf.keras.layers.Activation(activationInhibitory)(h1I)\n",
        "            h1 = tf.keras.layers.Concatenate()([h1E, h1I])\n",
        "        else:\n",
        "            if(integrateWeights):\n",
        "                if(integrateWeights1):\n",
        "                    if(firstLayer):\n",
        "                        h1E = tf.keras.layers.Dense(layerSizeBase*layerRatio)(h0)   #excitatory neuron inputs\n",
        "                        h1I = tf.keras.layers.Dense(layerSizeBase*layerRatio)(h0)   #inhibitory neuron inputs             \n",
        "                    else:\n",
        "                        h1E = tf.keras.layers.Dense(layerSizeBase*layerRatio, kernel_initializer=neuronInitializer, kernel_constraint=weightConstraint, bias_constraint=biasConstraint)(h0)   #excitatory neuron inputs\n",
        "                        h1I = tf.keras.layers.Dense(layerSizeBase*layerRatio, kernel_initializer=neuronInitializer, kernel_constraint=weightConstraint, bias_constraint=biasConstraint)(h0)   #inhibitory neuron inputs  \n",
        "                    h1E = tf.keras.layers.Activation(activation)(h1E)\n",
        "                    h1I = tf.keras.layers.Activation(activation)(h1I)\n",
        "                    h1 = tf.keras.layers.Concatenate()([h1E, h1I])\n",
        "                elif(integrateWeights2):\n",
        "                    if(firstLayer):\n",
        "                        h1 = tf.keras.layers.Dense(layerSizeBase*layerRatio*4)(h0)   #excitatory neuron inputs\n",
        "                    else:\n",
        "                        h1 = tf.keras.layers.Dense(layerSizeBase*layerRatio*2, kernel_initializer=neuronInitializer, kernel_constraint=weightConstraint, bias_constraint=biasConstraint)(h0)   #excitatory neuron inputs\n",
        "                    h1 = tf.keras.layers.Activation(activation)(h1) #ReLU\n",
        "            else:\n",
        "                if(firstLayer):\n",
        "                    h1E = tf.keras.layers.Dense(layerSizeBase*layerRatio, kernel_initializer=excitatoryNeuronInitializer)(h0)   #excitatory neuron inputs\n",
        "                    h1I = tf.keras.layers.Dense(layerSizeBase*layerRatio, kernel_initializer=inhibitoryNeuronInitializer)(h0)   #inhibitory neuron inputs\n",
        "                else:\n",
        "                    h0E, h0I = h0\n",
        "                    h1Ee = tf.keras.layers.Dense(layerSizeBase*layerRatio, kernel_initializer=excitatoryNeuronInitializer, kernel_constraint=weightConstraintPositive, bias_constraint=biasConstraintPositive)(h0E) #excitatory neuron excitatory inputs\n",
        "                    h1Ei = tf.keras.layers.Dense(layerSizeBase*layerRatio, kernel_initializer=excitatoryNeuronInitializer, kernel_constraint=weightConstraintNegative, bias_constraint=biasConstraintNegative)(h0I) #excitatory neuron inhibitory inputs\n",
        "                    h1Ie = tf.keras.layers.Dense(layerSizeBase*layerRatio, kernel_initializer=inhibitoryNeuronInitializer, kernel_constraint=weightConstraintPositive, bias_constraint=biasConstraintPositive)(h0E) #inhibitory neuron excitatory inputs\n",
        "                    h1Ii = tf.keras.layers.Dense(layerSizeBase*layerRatio, kernel_initializer=inhibitoryNeuronInitializer, kernel_constraint=weightConstraintNegative, bias_constraint=biasConstraintNegative)(h0I) #inhibitory neuron inhibitory inputs\n",
        "                    h1E = tf.keras.layers.Add()([h1Ee, h1Ei])\n",
        "                    h1I = tf.keras.layers.Add()([h1Ie, h1Ii])\n",
        "                h1E = tf.keras.layers.Activation(activationExcitatory)(h1E)\n",
        "                h1I = tf.keras.layers.Activation(activationInhibitory)(h1I)\n",
        "                h1 = (h1E, h1I)\n",
        "    return h1\n",
        "\n",
        "def concatEIneurons(h):\n",
        "    if(positiveWeightImplementation):\n",
        "        return h\n",
        "    else: \n",
        "        if(integrateWeights):\n",
        "            pass\n",
        "        else:\n",
        "            hE, hI = h\n",
        "            h = tf.keras.layers.Concatenate()([hE, hI])\n",
        "        return h\n",
        "\n",
        "x = tf.keras.layers.Input(shape=input_shape)\n",
        "h0 = tf.keras.layers.Flatten()(x)\n",
        "\n",
        "hLast = h0\n",
        "if(numberOfHiddenLayers >= 1):\n",
        "    h1 = createEIlayer(1, h0, firstLayer=True)\n",
        "    hLast = h1\n",
        "if(numberOfHiddenLayers >= 2):\n",
        "    h2 = createEIlayer(2, h1)\n",
        "    hLast = h2\n",
        "if(numberOfHiddenLayers >= 3):\n",
        "    h3 = createEIlayer(3, h2)\n",
        "    hLast = h3\n",
        "if(numberOfHiddenLayers >= 4):\n",
        "    h4 = createEIlayer(4, h3)\n",
        "    hLast = h4\n",
        "if(addSkipLayers):\n",
        "    mList = []\n",
        "    if(numberOfHiddenLayers >= 1):\n",
        "        m1 = tf.keras.layers.Flatten()(concatEIneurons(h1))\n",
        "        mList.append(m1)\n",
        "    if(numberOfHiddenLayers >= 2):\n",
        "        m2 = tf.keras.layers.Flatten()(concatEIneurons(h2))\n",
        "        mList.append(m2)\n",
        "    if(numberOfHiddenLayers >= 3):\n",
        "        m3 = tf.keras.layers.Flatten()(concatEIneurons(h3))\n",
        "        mList.append(m3)\n",
        "    if(numberOfHiddenLayers >= 4):\n",
        "        m4 = tf.keras.layers.Flatten()(concatEIneurons(h4))\n",
        "        mList.append(m4)\n",
        "    hLast = tf.keras.layers.concatenate(mList)\n",
        "else:\n",
        "    hLast = concatEIneurons(hLast)\n",
        "\n",
        "if(generateUntrainedNetwork):\n",
        "    hLast = tf.keras.layers.Lambda(lambda x: tf.keras.backend.stop_gradient(x))(hLast)\n",
        "y = tf.keras.layers.Dense(num_classes, activation='softmax', kernel_constraint=weightConstraintLastLayer, bias_constraint=biasConstraintLastLayer)(hLast)\n",
        "model = tf.keras.Model(x, y)\n",
        "\n",
        "#print(model.summary())\n",
        "#model.compile(optimizer=tf.keras.optimizers.RMSprop(epsilon=1e-08), loss='categorical_crossentropy', metrics=['acc'])\n",
        "#evaluation accuracy: ? (with 1 or 2 hidden layers)\n"
      ]
    },
    {
      "cell_type": "code",
      "execution_count": 215,
      "metadata": {
        "id": "RSkzdv8MD0tT"
      },
      "outputs": [],
      "source": [
        "loss_fn = tf.keras.losses.SparseCategoricalCrossentropy(from_logits=True)"
      ]
    },
    {
      "cell_type": "code",
      "execution_count": 216,
      "metadata": {
        "id": "9foNKHzTD2Vo",
        "colab": {
          "base_uri": "https://localhost:8080/"
        },
        "outputId": "989bc1fd-9ec2-4c37-a1fb-f4061b90c34b"
      },
      "outputs": [
        {
          "output_type": "stream",
          "name": "stdout",
          "text": [
            "Model: \"model_199\"\n",
            "_________________________________________________________________\n",
            " Layer (type)                Output Shape              Param #   \n",
            "=================================================================\n",
            " input_14 (InputLayer)       [(None, 28, 28)]          0         \n",
            "                                                                 \n",
            " flatten_13 (Flatten)        (None, 784)               0         \n",
            "                                                                 \n",
            " dense_40 (Dense)            (None, 512)               401920    \n",
            "                                                                 \n",
            " activation_25 (Activation)  (None, 512)               0         \n",
            "                                                                 \n",
            " dense_41 (Dense)            (None, 256)               131328    \n",
            "                                                                 \n",
            " activation_26 (Activation)  (None, 256)               0         \n",
            "                                                                 \n",
            " dense_42 (Dense)            (None, 10)                2570      \n",
            "                                                                 \n",
            "=================================================================\n",
            "Total params: 535,818\n",
            "Trainable params: 535,818\n",
            "Non-trainable params: 0\n",
            "_________________________________________________________________\n",
            "None\n"
          ]
        }
      ],
      "source": [
        "model.compile(optimizer='adam',\n",
        "              loss=loss_fn,\n",
        "              metrics=['accuracy'])\n",
        "\n",
        "print(model.summary())"
      ]
    },
    {
      "cell_type": "code",
      "source": [
        "if(debugPreTrainWeights):\n",
        "    testwritefile = open('weightsPreTrain.txt', 'w')\n",
        "    for layerIndex, layer in enumerate(model.layers):\n",
        "        heading = \"layerWeights = \" + str(layerIndex) + \"\\n\"\n",
        "        testwritefile.write(heading)\n",
        "        #print(heading)\n",
        "        weights = layer.get_weights()\n",
        "        #print(weights)\n",
        "        weightsS =  str(weights)\n",
        "        testwritefile.write(weightsS)\n",
        "    testwritefile.close()"
      ],
      "metadata": {
        "id": "FAQw0rvCd4Wt"
      },
      "execution_count": 217,
      "outputs": []
    },
    {
      "cell_type": "code",
      "source": [
        "if(debugPreTrainOutputs):\n",
        "    testwritefile = open('outputPreTrain.txt', 'w')\n",
        "    xTrainFirstSample = np.expand_dims(x_train[0], axis=0)\n",
        "    for layerIndex, layer in enumerate(model.layers):\n",
        "        heading = \"layerOutputs = \" + str(layerIndex) + \"\\n\"\n",
        "        #print(heading)\n",
        "        testwritefile.write(heading)\n",
        "        func = K.function([model.get_layer(index=0).input], layer.output)\n",
        "        layerOutput = func([xTrainFirstSample])  # input_data is a numpy array\n",
        "        #print(layerOutput)\n",
        "        layerOutputS =  str(layerOutput)\n",
        "        testwritefile.write(layerOutputS)\n",
        "    testwritefile.close()"
      ],
      "metadata": {
        "id": "o8FNyXG9Pl-G"
      },
      "execution_count": 218,
      "outputs": []
    },
    {
      "cell_type": "markdown",
      "source": [
        "## Train model"
      ],
      "metadata": {
        "id": "5lJZhEkFYCtL"
      }
    },
    {
      "cell_type": "code",
      "execution_count": 219,
      "metadata": {
        "id": "y7suUbJXVLqP",
        "colab": {
          "base_uri": "https://localhost:8080/"
        },
        "outputId": "bb871ba1-71d7-4c32-8fff-3ddb5fbcecb2"
      },
      "outputs": [
        {
          "output_type": "stream",
          "name": "stdout",
          "text": [
            "Epoch 1/5\n"
          ]
        },
        {
          "output_type": "stream",
          "name": "stderr",
          "text": [
            "/usr/local/lib/python3.7/dist-packages/tensorflow/python/util/dispatch.py:1082: UserWarning: \"`sparse_categorical_crossentropy` received `from_logits=True`, but the `output` argument was produced by a sigmoid or softmax activation and thus does not represent logits. Was this intended?\"\n",
            "  return dispatch_target(*args, **kwargs)\n"
          ]
        },
        {
          "output_type": "stream",
          "name": "stdout",
          "text": [
            "938/938 [==============================] - 3s 3ms/step - loss: 0.2271 - accuracy: 0.9323\n",
            "Epoch 2/5\n",
            "938/938 [==============================] - 2s 3ms/step - loss: 0.0863 - accuracy: 0.9735\n",
            "Epoch 3/5\n",
            "938/938 [==============================] - 2s 2ms/step - loss: 0.0584 - accuracy: 0.9818\n",
            "Epoch 4/5\n",
            "938/938 [==============================] - 2s 3ms/step - loss: 0.0446 - accuracy: 0.9852\n",
            "Epoch 5/5\n",
            "938/938 [==============================] - 2s 3ms/step - loss: 0.0352 - accuracy: 0.9882\n"
          ]
        },
        {
          "output_type": "execute_result",
          "data": {
            "text/plain": [
              "<keras.callbacks.History at 0x7f051c8bfb50>"
            ]
          },
          "metadata": {},
          "execution_count": 219
        }
      ],
      "source": [
        "model.fit(x_train, y_train, batch_size=batch_size, epochs=epochs)"
      ]
    },
    {
      "cell_type": "code",
      "source": [
        "if(debugPostTrainWeights):\n",
        "    testwritefile = open('weightsPostTrain.txt', 'w')\n",
        "    for layerIndex, layer in enumerate(model.layers):\n",
        "        heading = \"layerWeights = \" + str(layerIndex) + \"\\n\"\n",
        "        testwritefile.write(heading)\n",
        "        #print(heading)\n",
        "        weights = layer.get_weights()\n",
        "        #print(weights)\n",
        "        weightsS =  str(weights)\n",
        "        testwritefile.write(weightsS)\n",
        "    testwritefile.close()"
      ],
      "metadata": {
        "id": "nyUVIVzvNz3o"
      },
      "execution_count": 220,
      "outputs": []
    },
    {
      "cell_type": "code",
      "source": [
        "if(debugPostTrainOutputs):\n",
        "    testwritefile = open('outputPostTrain.txt', 'w')\n",
        "    xTrainFirstSample = np.expand_dims(x_train[0], axis=0)\n",
        "    for layerIndex, layer in enumerate(model.layers):\n",
        "        heading = \"layerOutputs = \" + str(layerIndex) + \"\\n\"\n",
        "        #print(heading)\n",
        "        testwritefile.write(heading)\n",
        "        func = K.function([model.get_layer(index=0).input], layer.output)\n",
        "        layerOutput = func([xTrainFirstSample])  # input_data is a numpy array\n",
        "        #print(layerOutput)\n",
        "        layerOutputS = str(layerOutput)  #tf.tensor.toString(layerOutput)    #layerOutput.tostring()\n",
        "        testwritefile.write(layerOutputS)\n",
        "    testwritefile.close()"
      ],
      "metadata": {
        "id": "wkFMMGAV3DvD"
      },
      "execution_count": 221,
      "outputs": []
    },
    {
      "cell_type": "markdown",
      "source": [
        "## Evaluate model"
      ],
      "metadata": {
        "id": "yp1IpSBHYGpV"
      }
    },
    {
      "cell_type": "code",
      "execution_count": 222,
      "metadata": {
        "id": "F7dTAzgHDUh7",
        "colab": {
          "base_uri": "https://localhost:8080/"
        },
        "outputId": "8185845b-d29d-458c-e22b-641f93c3e6dd"
      },
      "outputs": [
        {
          "output_type": "stream",
          "name": "stdout",
          "text": [
            "313/313 - 1s - loss: 0.0731 - accuracy: 0.9796 - 590ms/epoch - 2ms/step\n"
          ]
        },
        {
          "output_type": "execute_result",
          "data": {
            "text/plain": [
              "[0.07314682751893997, 0.9796000123023987]"
            ]
          },
          "metadata": {},
          "execution_count": 222
        }
      ],
      "source": [
        "model.evaluate(x_test,  y_test, verbose=2)"
      ]
    },
    {
      "cell_type": "code",
      "execution_count": 223,
      "metadata": {
        "id": "rYb6DrEH0GMv"
      },
      "outputs": [],
      "source": [
        "probability_model = tf.keras.Sequential([\n",
        "  model,\n",
        "  tf.keras.layers.Softmax()\n",
        "])"
      ]
    },
    {
      "cell_type": "code",
      "execution_count": 224,
      "metadata": {
        "id": "cnqOZtUp1YR_",
        "colab": {
          "base_uri": "https://localhost:8080/"
        },
        "outputId": "8faa9186-1579-423e-c351-8add65343a17"
      },
      "outputs": [
        {
          "output_type": "execute_result",
          "data": {
            "text/plain": [
              "<tf.Tensor: shape=(5, 10), dtype=float32, numpy=\n",
              "array([[0.08533978, 0.0853398 , 0.08533981, 0.08535491, 0.08533977,\n",
              "        0.08533983, 0.08533977, 0.23192148, 0.08533994, 0.08534495],\n",
              "       [0.08533675, 0.08533675, 0.23196927, 0.08533676, 0.08533675,\n",
              "        0.08533675, 0.08533675, 0.08533675, 0.08533676, 0.08533675],\n",
              "       [0.08533715, 0.23196301, 0.08533777, 0.08533715, 0.08533761,\n",
              "        0.08533715, 0.0853372 , 0.08533812, 0.08533776, 0.08533715],\n",
              "       [0.23196505, 0.08533704, 0.08533712, 0.08533709, 0.08533722,\n",
              "        0.08533707, 0.08533788, 0.08533707, 0.08533703, 0.08533749],\n",
              "       [0.08535241, 0.08535241, 0.08535241, 0.0853524 , 0.23172152,\n",
              "        0.0853524 , 0.08535241, 0.08535256, 0.08535241, 0.08545913]],\n",
              "      dtype=float32)>"
            ]
          },
          "metadata": {},
          "execution_count": 224
        }
      ],
      "source": [
        "probability_model(x_test[:5])"
      ]
    }
  ],
  "metadata": {
    "colab": {
      "collapsed_sections": [],
      "provenance": [],
      "machine_shape": "hm"
    },
    "kernelspec": {
      "display_name": "Python 3",
      "name": "python3"
    },
    "accelerator": "GPU",
    "gpuClass": "standard"
  },
  "nbformat": 4,
  "nbformat_minor": 0
}