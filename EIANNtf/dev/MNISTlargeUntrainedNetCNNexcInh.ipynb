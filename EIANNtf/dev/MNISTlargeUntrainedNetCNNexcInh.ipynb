{
  "cells": [
    {
      "cell_type": "markdown",
      "metadata": {
        "id": "3wF5wszaj97Y"
      },
      "source": [
        "# MNIST Large Untrained Net CNN Exc Inh"
      ]
    },
    {
      "cell_type": "markdown",
      "metadata": {
        "id": "9fyMqv0I6N7V"
      },
      "source": [
        "Derived from https://www.kaggle.com/code/amyjang/tensorflow-mnist-cnn-tutorial/notebook"
      ]
    },
    {
      "cell_type": "code",
      "execution_count": 37,
      "metadata": {
        "colab": {
          "base_uri": "https://localhost:8080/"
        },
        "id": "DhS7EGDb6N7c",
        "outputId": "be149782-c6e4-45e3-9871-895da54acd94"
      },
      "outputs": [
        {
          "output_type": "stream",
          "name": "stdout",
          "text": [
            "2.8.2\n"
          ]
        }
      ],
      "source": [
        "import tensorflow as tf\n",
        "import seaborn as sns\n",
        "import numpy as np\n",
        "import pandas as pd\n",
        "import matplotlib.pyplot as plt\n",
        "import matplotlib.image as mpimg\n",
        "from keras import backend as K\n",
        "\n",
        "print(tf.__version__)"
      ]
    },
    {
      "cell_type": "code",
      "execution_count": 38,
      "metadata": {
        "id": "QtW5QQroBjB7"
      },
      "outputs": [],
      "source": [
        "import numpy as np\n",
        "import sys\n",
        "np.set_printoptions(threshold=sys.maxsize)"
      ]
    },
    {
      "cell_type": "code",
      "execution_count": 39,
      "metadata": {
        "id": "Rp-5VLtgRHyR"
      },
      "outputs": [],
      "source": [
        "inlineImplementation = False\t#orig: True #True: excitatory/inhibitory neurons are on same sublayer, False: add inhibitory neurons to separate preceding sublayer\n",
        "if(inlineImplementation):\n",
        "    positiveWeightImplementation = False\t#orig: True #optional\n",
        "    if(not positiveWeightImplementation):\n",
        "        integrateWeights = True    #orig: False #optional\n",
        "        if(integrateWeights):\n",
        "            integrateWeights1 = False    #explicitly declare E/I neurons\n",
        "            integrateWeights2 = True    #implicitly declare E/I neurons   \n",
        "            integrateWeightsInitialiseZero = False   #miscellaneous training performance improvement (single EI layer only)\n",
        "else:\n",
        "    positiveWeightImplementation = False    #False: only current coded implementation\n",
        "\n",
        "inputLayerExcitatoryOnly = True #True: only current coded implementation\n",
        "\n",
        "generateUntrainedNetwork = False\n",
        "if(generateUntrainedNetwork):\n",
        "    #only train the last layer\n",
        "    numberOfHiddenLayers = 2    #default: 2    #if 0 then useSVM=True\n",
        "    preFinalDenseLayer = False\n",
        "else:\n",
        "    numberOfHiddenLayers = 2   #default: 4\n",
        "    preFinalDenseLayer = False\n",
        "\n",
        "\n",
        "if(numberOfHiddenLayers > 1):\n",
        "    addSkipLayers = False   #optional\n",
        "else:\n",
        "    addSkipLayers = False   #mandatory\n",
        "\n",
        "layerSizeBase = 32  #default: 32\n",
        "\n",
        "batch_size = 64 #default: 64\n",
        "epochs = 5  #1  #5\n",
        "\n",
        "debugNoEIneurons = False\n",
        "debugPreTrainWeights = True\n",
        "debugPreTrainOutputs = True\n",
        "debugPostTrainWeights = True\n",
        "debugPostTrainOutputs = True\n",
        "if(debugNoEIneurons):\n",
        "    numberOfHiddenLayers = 4  #default = 4, if 0 then useSVM=True\n",
        "    preFinalDenseLayer = True"
      ]
    },
    {
      "cell_type": "markdown",
      "metadata": {
        "id": "pGfQXr--YeL7"
      },
      "source": [
        "## Load data"
      ]
    },
    {
      "cell_type": "code",
      "execution_count": 40,
      "metadata": {
        "id": "8efB13kY6N7g"
      },
      "outputs": [],
      "source": [
        "mnist = tf.keras.datasets.mnist\n",
        "(x_train, y_train), (x_test, y_test) = mnist.load_data()"
      ]
    },
    {
      "cell_type": "code",
      "execution_count": 41,
      "metadata": {
        "id": "jV3cgXgP6N7m"
      },
      "outputs": [],
      "source": [
        "input_shape = (28, 28, 1)\n",
        "\n",
        "x_train=x_train.reshape(x_train.shape[0], x_train.shape[1], x_train.shape[2], 1)\n",
        "x_train=x_train / 255.0\n",
        "x_test = x_test.reshape(x_test.shape[0], x_test.shape[1], x_test.shape[2], 1)\n",
        "x_test=x_test/255.0"
      ]
    },
    {
      "cell_type": "code",
      "execution_count": 42,
      "metadata": {
        "id": "N60OSnQM6N7n"
      },
      "outputs": [],
      "source": [
        "y_train = tf.one_hot(y_train.astype(np.int32), depth=10)\n",
        "y_test = tf.one_hot(y_test.astype(np.int32), depth=10)"
      ]
    },
    {
      "cell_type": "code",
      "execution_count": 43,
      "metadata": {
        "colab": {
          "base_uri": "https://localhost:8080/",
          "height": 282
        },
        "id": "0dMzhGd16N7o",
        "outputId": "8faddd39-150b-461f-dc2d-821bb5df6d02"
      },
      "outputs": [
        {
          "output_type": "stream",
          "name": "stdout",
          "text": [
            "tf.Tensor([0. 0. 0. 0. 0. 1. 0. 0. 0. 0.], shape=(10,), dtype=float32)\n"
          ]
        },
        {
          "output_type": "display_data",
          "data": {
            "text/plain": [
              "<Figure size 432x288 with 1 Axes>"
            ],
            "image/png": "[encoded data removed]"
          },
          "metadata": {
            "needs_background": "light"
          }
        }
      ],
      "source": [
        "plt.imshow(x_train[100][:,:,0])\n",
        "print(y_train[100])"
      ]
    },
    {
      "cell_type": "markdown",
      "metadata": {
        "id": "BPZ68wASog_I"
      },
      "source": [
        "## Define model"
      ]
    },
    {
      "cell_type": "code",
      "execution_count": 44,
      "metadata": {
        "id": "3BSgPmfd6N7p"
      },
      "outputs": [],
      "source": [
        "num_classes = 10"
      ]
    },
    {
      "cell_type": "code",
      "execution_count": 45,
      "metadata": {
        "id": "G_TJH-X4qhtI"
      },
      "outputs": [],
      "source": [
        "def EIactivation(x):\n",
        "    return K.maximum(x, 0)  #ReLU\n",
        "\n",
        "def EIactivationExcitatory(x):\n",
        "    if(inlineImplementation):\n",
        "        if(positiveWeightImplementation):\n",
        "            return K.maximum(x, 0)  #ReLU\n",
        "        else:\n",
        "             print(\"EIactivationExcitatory error: requires positiveWeightImplementation\")      \n",
        "    else:\n",
        "        print(\"EIactivationExcitatory error: requires inlineImplementation\")\n",
        "\n",
        "def EIactivationInhibitory(x):\n",
        "    if(inlineImplementation):\n",
        "        if(positiveWeightImplementation):\n",
        "            return -(K.maximum(x, 0))   #ReLU with negative output\n",
        "        else:\n",
        "             print(\"EIactivationInhibitory error: requires positiveWeightImplementation\")      \n",
        "    else:\n",
        "        print(\"inlineImplementation error: requires inlineImplementation\")\n",
        "\n",
        "def EIweightInitializer(shape, dtype=None):\n",
        "    if(inlineImplementation):\n",
        "        if(positiveWeightImplementation):\n",
        "            w = tf.math.abs(tf.random.normal(shape, dtype=dtype))\n",
        "        else:\n",
        "            if(integrateWeights):\n",
        "                if(integrateWeightsInitialiseZero):\n",
        "                    w = tf.zeros(shape, dtype=dtype)    #tf.math.abs(tf.random.normal(shape, dtype=dtype))\n",
        "                else:\n",
        "                    #print(\"shape = \", shape)\n",
        "                    w = tf.math.abs(tf.random.normal(shape, dtype=dtype))\n",
        "                    wEIsize = w.shape[2]//2\n",
        "                    wSignE = tf.ones([w.shape[0], w.shape[1], wEIsize, w.shape[3]])\n",
        "                    wSignI = tf.ones([w.shape[0], w.shape[1], wEIsize, w.shape[3]])\n",
        "                    wSignI = tf.multiply(wSignI, -1)\n",
        "                    wSign = tf.concat([wSignE, wSignI], axis=2)\n",
        "                    w = tf.multiply(w, wSign)\n",
        "            else:\n",
        "                print(\"EIweightInitializer error: requires !positiveWeightImplementation:integrateWeights\")\n",
        "    else:\n",
        "        print(\"EIweightInitializer error: requires inlineImplementation\") \n",
        "\n",
        "    return w\n",
        "\n",
        "def EIweightInitializerExcitatory(shape, dtype=None):\n",
        "    if(positiveWeightImplementation):\n",
        "        print(\"EIweightInitializerExcitatory error: requires !positiveWeightImplementation\")\n",
        "    else:\n",
        "        return tf.math.abs(tf.random.normal(shape, dtype=dtype))\n",
        "\n",
        "def EIweightInitializerInhibitory(shape, dtype=None):\n",
        "    if(positiveWeightImplementation):\n",
        "        print(\"EIweightInitializerExcitatory error: requires !positiveWeightImplementation\")\n",
        "    else:\n",
        "        return tf.math.negative(tf.math.abs(tf.random.normal(shape, dtype=dtype)))\n",
        "\n",
        "class negative(tf.keras.constraints.Constraint):\n",
        "    #based on https://www.tensorflow.org/api_docs/python/tf/keras/constraints/Constraint\n",
        "    def __init__(self):\n",
        "        pass\n",
        "    def __call__(self, w):\n",
        "        return w * tf.cast(tf.math.less_equal(w, 0.), w.dtype)\n",
        "\n",
        "class positiveOrNegative(tf.keras.constraints.Constraint):\n",
        "    #based on https://www.tensorflow.org/api_docs/python/tf/keras/constraints/Constraint\n",
        "    def __init__(self):\n",
        "        pass\n",
        "    def __call__(self, w):\n",
        "        w_shape = w.shape\n",
        "        #print(\"w_shape = \", w_shape)\n",
        "        wEIsize = w.shape[2]//2\n",
        "        wE = w[:, :, 0:wEIsize]\n",
        "        wI = w[:, :, wEIsize:]\n",
        "        wEcheck = tf.greater_equal(wE, 0)\n",
        "        wIcheck = tf.less_equal(wI, 0)\n",
        "        wEcheck = tf.cast(wEcheck, tf.float32)\n",
        "        wIcheck = tf.cast(wIcheck, tf.float32)\n",
        "        wE = tf.multiply(wE, wEcheck)\n",
        "        wI = tf.multiply(wI, wIcheck)\n",
        "        w = tf.concat([wE, wI], axis=2)\n",
        "        return w"
      ]
    },
    {
      "cell_type": "code",
      "source": [
        "if(inlineImplementation):\n",
        "    if(positiveWeightImplementation):\n",
        "        EIweightConstraint = tf.keras.constraints.non_neg()\n",
        "        constrainBiases = True   #ensure positive biases also\n",
        "        if(constrainBiases):\n",
        "            EIbiasConstraint = tf.keras.constraints.non_neg()\n",
        "            constrainBiasesLastLayer = False\n",
        "            if(constrainBiasesLastLayer):\n",
        "                EIbiasConstraintLastLayer = tf.keras.constraints.non_neg()\n",
        "            else:\n",
        "                EIbiasConstraintLastLayer = None\n",
        "        else:\n",
        "            EIbiasConstraint = None\n",
        "            EIbiasConstraintLastLayer = None\n",
        "    else:\n",
        "        if(integrateWeights):\n",
        "            EIweightConstraint = positiveOrNegative()\n",
        "            EIbiasConstraint = None\n",
        "        else:\n",
        "            EIweightConstraintPositive = tf.keras.constraints.non_neg()\n",
        "            EIweightConstraintNegative = negative()\n",
        "            constrainBiases = False\n",
        "            if(constrainBiases):\n",
        "                EIbiasConstraintPositive = tf.keras.constraints.non_neg()\n",
        "                EIbiasConstraintNegative = negative()\n",
        "            else:\n",
        "                EIbiasConstraintPositive = None\n",
        "                EIbiasConstraintNegative = None\n",
        "else:\n",
        "    EIweightConstraintPositive = tf.keras.constraints.non_neg()\n",
        "    EIweightConstraintNegative = negative()\n",
        "    constrainBiases = False\n",
        "    if(constrainBiases):\n",
        "        EIbiasConstraintPositive = tf.keras.constraints.non_neg()\n",
        "        EIbiasConstraintNegative = negative()\n",
        "    else:\n",
        "        EIbiasConstraintPositive = None\n",
        "        EIbiasConstraintNegative = None\n",
        "    EIweightConstraintLastLayer = None\n",
        "    EIbiasConstraintLastLayer = None \n",
        "\n",
        "if(generateUntrainedNetwork):\n",
        "    #only train the last layer\n",
        "    generateLargeNetwork = True\n",
        "else:\n",
        "    generateLargeNetwork = False\n",
        "\n",
        "if(generateLargeNetwork):\n",
        "    largeNetworkRatio = 10    #100\n",
        "    generateLargeNetworkExpansion = False\n",
        "    if(generateLargeNetworkExpansion):\n",
        "        generateLargeNetworkRatioExponential = False\n",
        "else:\n",
        "    generateLargeNetworkRatio = False\n",
        "\n",
        "def getLayerRatio(layerIndex):\n",
        "    layerRatio = 1\n",
        "    if(generateLargeNetwork):\n",
        "        if(generateLargeNetworkExpansion):\n",
        "            if(generateLargeNetworkRatioExponential):\n",
        "                layerRatio = largeNetworkRatio**layerIndex\n",
        "            else:\n",
        "                layerRatio = largeNetworkRatio * layerIndex\n",
        "        else:\n",
        "            layerRatio = largeNetworkRatio\n",
        "    else:\n",
        "        layerRatio = 1\n",
        "    return int(layerRatio)\n",
        "\n",
        "def createEIlayer(layerIndex, h0, firstLayer=False, maxpool2d=None, dropout=None):\n",
        "    layerRatio = getLayerRatio(2)\n",
        "    if(debugNoEIneurons):\n",
        "        h1 = tf.keras.layers.Conv2D(layerSizeBase*layerRatio, (5,5), padding='same')(h0)\n",
        "        h1 = tf.keras.layers.ReLU()(h1)\n",
        "        if(maxpool2d is not None):\n",
        "            h1 = tf.keras.layers.MaxPool2D(strides=maxpool2d)(h1)\n",
        "        if(dropout is not None):\n",
        "            h1 = tf.keras.layers.Dropout(dropout)(h1)\n",
        "    else:\n",
        "        if(inlineImplementation):\n",
        "            if(positiveWeightImplementation):\n",
        "                h1E = tf.keras.layers.Conv2D(layerSizeBase*layerRatio, (5,5), padding='same', kernel_initializer=EIweightInitializer, kernel_constraint=EIweightConstraint, bias_constraint=EIbiasConstraint)(h0)\n",
        "                h1I = tf.keras.layers.Conv2D(layerSizeBase*layerRatio, (5,5), padding='same', kernel_initializer=EIweightInitializer, kernel_constraint=EIweightConstraint, bias_constraint=EIbiasConstraint)(h0)\n",
        "                h1E = tf.keras.layers.Activation(EIactivationExcitatory)(h1E)\n",
        "                h1I = tf.keras.layers.Activation(EIactivationInhibitory)(h1I)\n",
        "                h1 = tf.keras.layers.Concatenate()([h1E, h1I])\n",
        "                if(maxpool2d is not None):\n",
        "                    h1 = tf.keras.layers.MaxPool2D(strides=maxpool2d)(h1)\n",
        "                if(dropout is not None):\n",
        "                    h1 = tf.keras.layers.Dropout(dropout)(h1)\n",
        "            else:\n",
        "                if(integrateWeights):\n",
        "                    if(integrateWeights1):\n",
        "                        if(firstLayer):\n",
        "                            h1E = tf.keras.layers.Conv2D(layerSizeBase*layerRatio, (5,5), padding='same')(h0)\n",
        "                            h1I = tf.keras.layers.Conv2D(layerSizeBase*layerRatio, (5,5), padding='same')(h0)\n",
        "                        else:\n",
        "                            h1E = tf.keras.layers.Conv2D(layerSizeBase*layerRatio, (5,5), padding='same', kernel_initializer=EIweightInitializer, kernel_constraint=EIweightConstraint, bias_constraint=EIbiasConstraint)(h0)\n",
        "                            h1I = tf.keras.layers.Conv2D(layerSizeBase*layerRatio, (5,5), padding='same', kernel_initializer=EIweightInitializer, kernel_constraint=EIweightConstraint, bias_constraint=EIbiasConstraint)(h0)\n",
        "                        h1E = tf.keras.layers.Activation(EIactivation)(h1E)\n",
        "                        h1I = tf.keras.layers.Activation(EIactivation)(h1I)\n",
        "                        h1 = tf.keras.layers.Concatenate(axis=2)([h1E, h1I])\n",
        "                    elif(integrateWeights2):\n",
        "                        if(firstLayer):\n",
        "                            h1 = tf.keras.layers.Conv2D(layerSizeBase*layerRatio*2, (5,5), padding='same')(h0)\n",
        "                        else:\n",
        "                            h1 = tf.keras.layers.Conv2D(layerSizeBase*layerRatio*2, (5,5), padding='same', kernel_initializer=EIweightInitializer, kernel_constraint=EIweightConstraint, bias_constraint=EIbiasConstraint)(h0)\n",
        "                        h1 = tf.keras.layers.Activation(EIactivation)(h1)\n",
        "                    if(maxpool2d is not None):\n",
        "                        h1 = tf.keras.layers.MaxPool2D(strides=maxpool2d)(h1)\n",
        "                    if(dropout is not None):\n",
        "                        h1 = tf.keras.layers.Dropout(dropout)(h1)\n",
        "                else:\n",
        "                    if(firstLayer):\n",
        "                        h1E = tf.keras.layers.Conv2D(layerSizeBase*layerRatio, (5,5), padding='same')(h0)\n",
        "                        h1I = tf.keras.layers.Conv2D(layerSizeBase*layerRatio, (5,5), padding='same')(h0)\n",
        "                    else:\n",
        "                        h0E, h0I = h0\n",
        "                        h1Ee = tf.keras.layers.Conv2D(layerSizeBase*layerRatio, (5,5), padding='same', kernel_initializer=EIweightInitializerExcitatory, kernel_constraint=EIweightConstraintPositive, bias_constraint=EIbiasConstraintPositive)(h0E) #excitatory neuron excitatory inputs\n",
        "                        h1Ei = tf.keras.layers.Conv2D(layerSizeBase*layerRatio, (5,5), padding='same', kernel_initializer=EIweightInitializerInhibitory, kernel_constraint=EIweightConstraintNegative, bias_constraint=EIbiasConstraintNegative)(h0I) #excitatory neuron inhibitory inputs\n",
        "                        h1Ie = tf.keras.layers.Conv2D(layerSizeBase*layerRatio, (5,5), padding='same', kernel_initializer=EIweightInitializerExcitatory, kernel_constraint=EIweightConstraintPositive, bias_constraint=EIbiasConstraintPositive)(h0E) #inhibitory neuron excitatory inputs\n",
        "                        h1Ii = tf.keras.layers.Conv2D(layerSizeBase*layerRatio, (5,5), padding='same', kernel_initializer=EIweightInitializerInhibitory, kernel_constraint=EIweightConstraintNegative, bias_constraint=EIbiasConstraintNegative)(h0I) #inhibitory neuron inhibitory inputs\n",
        "                        h1E = tf.keras.layers.Add()([h1Ee, h1Ei])\n",
        "                        h1I = tf.keras.layers.Add()([h1Ie, h1Ii])\n",
        "                    h1E = tf.keras.layers.Activation(EIactivation)(h1E)\n",
        "                    h1I = tf.keras.layers.Activation(EIactivation)(h1I)\n",
        "                    if(maxpool2d is not None):\n",
        "                        h1E = tf.keras.layers.MaxPool2D(strides=maxpool2d)(h1E)\n",
        "                        h1I = tf.keras.layers.MaxPool2D(strides=maxpool2d)(h1I)\n",
        "                    if(dropout is not None):\n",
        "                        h1E = tf.keras.layers.Dropout(dropout)(h1E)\n",
        "                        h1I = tf.keras.layers.Dropout(dropout)(h1I)\n",
        "                    h1 = (h1E, h1I)\n",
        "        else:\n",
        "            if(firstLayer):\n",
        "                previousNumChannels = 1\n",
        "            else:\n",
        "                previousNumChannels = layerSizeBase*layerRatio\n",
        "            h1I = tf.keras.layers.Conv2D(previousNumChannels, (5,5), padding='same', kernel_initializer=EIweightInitializerExcitatory, kernel_constraint=EIweightConstraintPositive, bias_constraint=EIbiasConstraintPositive)(h0) #inhibitory interneuron (excitatory inputs)\n",
        "            h1I = tf.keras.layers.Activation(EIactivation)(h1I) #not required\n",
        "            h1I = h1I*calculateInhibitoryNeuronNormalisationFactor(h0, h1I)\n",
        "            h1Ee = tf.keras.layers.Conv2D(layerSizeBase*layerRatio, (5,5), padding='same', kernel_initializer=EIweightInitializerExcitatory, kernel_constraint=EIweightConstraintPositive, bias_constraint=EIbiasConstraintPositive)(h0) #excitatory neuron excitatory inputs\n",
        "            h1Ei = tf.keras.layers.Conv2D(layerSizeBase*layerRatio, (5,5), padding='same', kernel_initializer=EIweightInitializerInhibitory, kernel_constraint=EIweightConstraintNegative, bias_constraint=EIbiasConstraintNegative)(h1I) #excitatory neuron inhibitory inputs       \n",
        "            h1E = tf.keras.layers.Add()([h1Ee, h1Ei])\n",
        "            h1E = tf.keras.layers.Activation(EIactivation)(h1E)\n",
        "            h1 = h1E\n",
        "            if(maxpool2d is not None):\n",
        "                h1 = tf.keras.layers.MaxPool2D(strides=maxpool2d)(h1)\n",
        "            if(dropout is not None):\n",
        "                h1 = tf.keras.layers.Dropout(dropout)(h1)\n",
        "    return h1\n",
        "\n",
        "def calculateInhibitoryNeuronNormalisationFactor(h0, h1I):\n",
        "    h1InormalisationFactor = tf.reduce_mean(h0)/tf.reduce_mean(h1I)\n",
        "    return h1InormalisationFactor\n",
        "\n",
        "def concatEIneurons(h):\n",
        "    if(inlineImplementation):\n",
        "        if(positiveWeightImplementation):\n",
        "            return h\n",
        "        else: \n",
        "            if(integrateWeights):\n",
        "                pass\n",
        "            else:\n",
        "                hE, hI = h\n",
        "                h = tf.keras.layers.Concatenate()([hE, hI])\n",
        "            return h\n",
        "    else:\n",
        "        return h\n"
      ],
      "metadata": {
        "id": "7ZgvPql7wB6W"
      },
      "execution_count": 46,
      "outputs": []
    },
    {
      "cell_type": "code",
      "execution_count": 47,
      "metadata": {
        "id": "OLN-jkxg6N7q"
      },
      "outputs": [],
      "source": [
        "x = tf.keras.layers.Input(shape=input_shape)\n",
        "h0 = x\n",
        "hLast = h0\n",
        "\n",
        "if(numberOfHiddenLayers >= 1):\n",
        "    h1 = createEIlayer(1, h0, firstLayer=True)\n",
        "    hLast = h1\n",
        "if(numberOfHiddenLayers >= 2):\n",
        "    h2 = createEIlayer(2, h1, maxpool2d=(1,1), dropout=0.25)\n",
        "    hLast = h2\n",
        "if(numberOfHiddenLayers >= 3):\n",
        "    h3 = createEIlayer(3, h2)\n",
        "    hLast = h3\n",
        "if(numberOfHiddenLayers >= 4):\n",
        "    h4 = createEIlayer(4, h3, maxpool2d=(2,2))\n",
        "    hLast = h4\n",
        "\n",
        "if(addSkipLayers):\n",
        "    mList = []\n",
        "    if(numberOfHiddenLayers >= 1):\n",
        "        m1 = tf.keras.layers.Flatten()(concatEIneurons(h1))\n",
        "        mList.append(m1)\n",
        "    if(numberOfHiddenLayers >= 2):\n",
        "        m2 = tf.keras.layers.Flatten()(concatEIneurons(h2))\n",
        "        mList.append(m2)\n",
        "    if(numberOfHiddenLayers >= 3):\n",
        "        m3 = tf.keras.layers.Flatten()(concatEIneurons(h3))\n",
        "        mList.append(m3)\n",
        "    if(numberOfHiddenLayers >= 4):\n",
        "        m4 = tf.keras.layers.Flatten()(concatEIneurons(h4))\n",
        "        mList.append(m4)\n",
        "    hLast = tf.keras.layers.concatenate(mList)\n",
        "else:\n",
        "    hLast = concatEIneurons(hLast)\n",
        "\n",
        "hLast = tf.keras.layers.Flatten()(hLast)\n",
        "if(preFinalDenseLayer):\n",
        "    hLast = tf.keras.layers.Dense(128, activation='relu')(hLast)\n",
        "    hLast = tf.keras.layers.Dropout(0.5)(hLast)\n",
        "\n",
        "if(generateUntrainedNetwork):\n",
        "    hLast = tf.keras.layers.Lambda(lambda x: tf.keras.backend.stop_gradient(x))(hLast)\n",
        "\n",
        "y = tf.keras.layers.Dense(num_classes, activation='softmax')(hLast)\n",
        "model = tf.keras.Model(x, y)"
      ]
    },
    {
      "cell_type": "code",
      "source": [
        "print(model.summary())\n",
        "#printModelSummary(model)\n",
        "\n",
        "model.compile(optimizer=tf.keras.optimizers.RMSprop(epsilon=1e-08), loss='categorical_crossentropy', metrics=['acc'])"
      ],
      "metadata": {
        "colab": {
          "base_uri": "https://localhost:8080/"
        },
        "id": "fegMeOltBWlB",
        "outputId": "a8b791c6-fad1-4778-bedd-598a9e391889"
      },
      "execution_count": 48,
      "outputs": [
        {
          "output_type": "stream",
          "name": "stdout",
          "text": [
            "Model: \"model_82\"\n",
            "__________________________________________________________________________________________________\n",
            " Layer (type)                   Output Shape         Param #     Connected to                     \n",
            "==================================================================================================\n",
            " input_3 (InputLayer)           [(None, 28, 28, 1)]  0           []                               \n",
            "                                                                                                  \n",
            " conv2d_16 (Conv2D)             (None, 28, 28, 1)    26          ['input_3[0][0]']                \n",
            "                                                                                                  \n",
            " activation_8 (Activation)      (None, 28, 28, 1)    0           ['conv2d_16[0][0]']              \n",
            "                                                                                                  \n",
            " tf.math.reduce_mean_8 (TFOpLam  ()                  0           ['input_3[0][0]']                \n",
            " bda)                                                                                             \n",
            "                                                                                                  \n",
            " tf.math.reduce_mean_9 (TFOpLam  ()                  0           ['activation_8[0][0]']           \n",
            " bda)                                                                                             \n",
            "                                                                                                  \n",
            " tf.math.truediv_4 (TFOpLambda)  ()                  0           ['tf.math.reduce_mean_8[0][0]',  \n",
            "                                                                  'tf.math.reduce_mean_9[0][0]']  \n",
            "                                                                                                  \n",
            " tf.math.multiply_4 (TFOpLambda  (None, 28, 28, 1)   0           ['activation_8[0][0]',           \n",
            " )                                                                'tf.math.truediv_4[0][0]']      \n",
            "                                                                                                  \n",
            " conv2d_17 (Conv2D)             (None, 28, 28, 32)   832         ['input_3[0][0]']                \n",
            "                                                                                                  \n",
            " conv2d_18 (Conv2D)             (None, 28, 28, 32)   832         ['tf.math.multiply_4[0][0]']     \n",
            "                                                                                                  \n",
            " add_4 (Add)                    (None, 28, 28, 32)   0           ['conv2d_17[0][0]',              \n",
            "                                                                  'conv2d_18[0][0]']              \n",
            "                                                                                                  \n",
            " activation_9 (Activation)      (None, 28, 28, 32)   0           ['add_4[0][0]']                  \n",
            "                                                                                                  \n",
            " conv2d_19 (Conv2D)             (None, 28, 28, 32)   25632       ['activation_9[0][0]']           \n",
            "                                                                                                  \n",
            " activation_10 (Activation)     (None, 28, 28, 32)   0           ['conv2d_19[0][0]']              \n",
            "                                                                                                  \n",
            " tf.math.reduce_mean_10 (TFOpLa  ()                  0           ['activation_9[0][0]']           \n",
            " mbda)                                                                                            \n",
            "                                                                                                  \n",
            " tf.math.reduce_mean_11 (TFOpLa  ()                  0           ['activation_10[0][0]']          \n",
            " mbda)                                                                                            \n",
            "                                                                                                  \n",
            " tf.math.truediv_5 (TFOpLambda)  ()                  0           ['tf.math.reduce_mean_10[0][0]', \n",
            "                                                                  'tf.math.reduce_mean_11[0][0]'] \n",
            "                                                                                                  \n",
            " tf.math.multiply_5 (TFOpLambda  (None, 28, 28, 32)  0           ['activation_10[0][0]',          \n",
            " )                                                                'tf.math.truediv_5[0][0]']      \n",
            "                                                                                                  \n",
            " conv2d_20 (Conv2D)             (None, 28, 28, 32)   25632       ['activation_9[0][0]']           \n",
            "                                                                                                  \n",
            " conv2d_21 (Conv2D)             (None, 28, 28, 32)   25632       ['tf.math.multiply_5[0][0]']     \n",
            "                                                                                                  \n",
            " add_5 (Add)                    (None, 28, 28, 32)   0           ['conv2d_20[0][0]',              \n",
            "                                                                  'conv2d_21[0][0]']              \n",
            "                                                                                                  \n",
            " activation_11 (Activation)     (None, 28, 28, 32)   0           ['add_5[0][0]']                  \n",
            "                                                                                                  \n",
            " max_pooling2d_4 (MaxPooling2D)  (None, 27, 27, 32)  0           ['activation_11[0][0]']          \n",
            "                                                                                                  \n",
            " dropout_4 (Dropout)            (None, 27, 27, 32)   0           ['max_pooling2d_4[0][0]']        \n",
            "                                                                                                  \n",
            " flatten_2 (Flatten)            (None, 23328)        0           ['dropout_4[0][0]']              \n",
            "                                                                                                  \n",
            " dense_4 (Dense)                (None, 10)           233290      ['flatten_2[0][0]']              \n",
            "                                                                                                  \n",
            "==================================================================================================\n",
            "Total params: 311,876\n",
            "Trainable params: 311,876\n",
            "Non-trainable params: 0\n",
            "__________________________________________________________________________________________________\n",
            "None\n"
          ]
        }
      ]
    },
    {
      "cell_type": "code",
      "execution_count": 49,
      "metadata": {
        "id": "KM1t_AIX6N7r"
      },
      "outputs": [],
      "source": [
        "class myCallback(tf.keras.callbacks.Callback):\n",
        "  def on_epoch_end(self, epoch, logs={}):\n",
        "    if(logs.get('acc')>0.995):\n",
        "      print(\"\\nReached 99.5% accuracy so cancelling training!\")\n",
        "      self.model.stop_training = True\n",
        "\n",
        "callbacks = myCallback()"
      ]
    },
    {
      "cell_type": "code",
      "execution_count": 50,
      "metadata": {
        "id": "CKVEJ0JYQ2NP"
      },
      "outputs": [],
      "source": [
        "if(debugPreTrainWeights):\n",
        "    testwritefile = open('weightsPreTrain.txt', 'w')\n",
        "    for layerIndex, layer in enumerate(model.layers):\n",
        "        heading = \"\\n\" + \"layer = \" + str(layerIndex) + \"\\n\"\n",
        "        #print(heading)\n",
        "        testwritefile.write(heading)\n",
        "        weights = layer.get_weights()\n",
        "        #print(weights)\n",
        "        weightsS =  str(weights)\n",
        "        testwritefile.write(weightsS)\n",
        "    testwritefile.close()"
      ]
    },
    {
      "cell_type": "code",
      "execution_count": 51,
      "metadata": {
        "id": "NH6_jeXcQ3B8"
      },
      "outputs": [],
      "source": [
        "if(debugPreTrainOutputs):\n",
        "    testwritefile = open('outputPreTrain.txt', 'w')\n",
        "    xTrainFirstSample = np.expand_dims(x_train[0], axis=0)\n",
        "    for layerIndex, layer in enumerate(model.layers):\n",
        "        heading = \"\\n\" + \"layer = \" + str(layerIndex) + \"\\n\"\n",
        "        #print(heading)\n",
        "        testwritefile.write(heading)\n",
        "        func = K.function([model.get_layer(index=0).input], layer.output)\n",
        "        layerOutput = func([xTrainFirstSample])  # input_data is a numpy array\n",
        "        #print(layerOutput)\n",
        "        layerOutputS =  str(layerOutput)\n",
        "        testwritefile.write(layerOutputS)\n",
        "    testwritefile.close()"
      ]
    },
    {
      "cell_type": "markdown",
      "metadata": {
        "id": "fYpudx2VRL3c"
      },
      "source": [
        "## Train model"
      ]
    },
    {
      "cell_type": "code",
      "execution_count": 52,
      "metadata": {
        "colab": {
          "base_uri": "https://localhost:8080/"
        },
        "id": "F9ocCw_T6N7s",
        "outputId": "f5873468-f091-48ae-da6c-8c47c109cbb1"
      },
      "outputs": [
        {
          "output_type": "stream",
          "name": "stdout",
          "text": [
            "Epoch 1/5\n",
            "844/844 [==============================] - 11s 11ms/step - loss: 23.1332 - acc: 0.8993 - val_loss: 0.1496 - val_acc: 0.9677\n",
            "Epoch 2/5\n",
            "844/844 [==============================] - 9s 11ms/step - loss: 0.1523 - acc: 0.9693 - val_loss: 0.1192 - val_acc: 0.9757\n",
            "Epoch 3/5\n",
            "844/844 [==============================] - 9s 11ms/step - loss: 0.1034 - acc: 0.9794 - val_loss: 0.1416 - val_acc: 0.9768\n",
            "Epoch 4/5\n",
            "844/844 [==============================] - 9s 11ms/step - loss: 0.0796 - acc: 0.9842 - val_loss: 0.1617 - val_acc: 0.9797\n",
            "Epoch 5/5\n",
            "844/844 [==============================] - 9s 11ms/step - loss: 0.0671 - acc: 0.9871 - val_loss: 0.1508 - val_acc: 0.9807\n"
          ]
        }
      ],
      "source": [
        "history = model.fit(x_train, y_train,\n",
        "                    batch_size=batch_size,\n",
        "                    epochs=epochs,\n",
        "                    validation_split=0.1,\n",
        "                    callbacks=[callbacks])"
      ]
    },
    {
      "cell_type": "code",
      "execution_count": 53,
      "metadata": {
        "id": "h0TbUrixeokx"
      },
      "outputs": [],
      "source": [
        "if(debugPostTrainWeights):\n",
        "    testwritefile = open('weightsPostTrain.txt', 'w')\n",
        "    for layerIndex, layer in enumerate(model.layers):\n",
        "        heading = \"\\n\" + \"layer = \" + str(layerIndex) + \"\\n\"\n",
        "        #print(heading)\n",
        "        testwritefile.write(heading)\n",
        "        weights = layer.get_weights()\n",
        "        #print(weights)\n",
        "        weightsS =  str(weights)\n",
        "        testwritefile.write(weightsS)\n",
        "    testwritefile.close()"
      ]
    },
    {
      "cell_type": "code",
      "execution_count": 54,
      "metadata": {
        "id": "JjnTxUid3GTu"
      },
      "outputs": [],
      "source": [
        "if(debugPostTrainOutputs):\n",
        "    testwritefile = open('outputPostTrain.txt', 'w')\n",
        "    xTrainFirstSample = np.expand_dims(x_train[0], axis=0)\n",
        "    for layerIndex, layer in enumerate(model.layers):\n",
        "        heading = \"\\n\" + \"layer = \" + str(layerIndex) + \"\\n\"\n",
        "        #print(heading)\n",
        "        testwritefile.write(heading)\n",
        "        func = K.function([model.get_layer(index=0).input], layer.output)\n",
        "        layerOutput = func([xTrainFirstSample])  # input_data is a numpy array\n",
        "        #print(layerOutput)\n",
        "        layerOutputS =  str(layerOutput)\n",
        "        testwritefile.write(layerOutputS)\n",
        "    testwritefile.close()"
      ]
    },
    {
      "cell_type": "markdown",
      "metadata": {
        "id": "Rr34Iqnn6N7s"
      },
      "source": [
        "## Evaluate model"
      ]
    },
    {
      "cell_type": "code",
      "execution_count": 55,
      "metadata": {
        "colab": {
          "base_uri": "https://localhost:8080/",
          "height": 265
        },
        "id": "BuCQbNgW6N7s",
        "outputId": "daa82001-a3f8-49b2-f3b8-4513246a17b1"
      },
      "outputs": [
        {
          "output_type": "display_data",
          "data": {
            "text/plain": [
              "<Figure size 432x288 with 2 Axes>"
            ],
            "image/png": "[encoded data removed]"
          },
          "metadata": {
            "needs_background": "light"
          }
        }
      ],
      "source": [
        "fig, ax = plt.subplots(2,1)\n",
        "ax[0].plot(history.history['loss'], color='b', label=\"Training Loss\")\n",
        "ax[0].plot(history.history['val_loss'], color='r', label=\"Validation Loss\",axes =ax[0])\n",
        "legend = ax[0].legend(loc='best', shadow=True)\n",
        "\n",
        "ax[1].plot(history.history['acc'], color='b', label=\"Training Accuracy\")\n",
        "ax[1].plot(history.history['val_acc'], color='r',label=\"Validation Accuracy\")\n",
        "legend = ax[1].legend(loc='best', shadow=True)"
      ]
    },
    {
      "cell_type": "code",
      "execution_count": 56,
      "metadata": {
        "colab": {
          "base_uri": "https://localhost:8080/"
        },
        "id": "7Jz4oEW06N7u",
        "outputId": "f8a7df26-4a6b-41d2-dc11-c207743254d7"
      },
      "outputs": [
        {
          "output_type": "stream",
          "name": "stdout",
          "text": [
            "313/313 [==============================] - 1s 4ms/step - loss: 0.1569 - acc: 0.9782\n"
          ]
        }
      ],
      "source": [
        "test_loss, test_acc = model.evaluate(x_test, y_test)"
      ]
    }
  ],
  "metadata": {
    "colab": {
      "collapsed_sections": [],
      "provenance": []
    },
    "gpuClass": "standard",
    "kernelspec": {
      "display_name": "Python 3",
      "language": "python",
      "name": "python3"
    },
    "language_info": {
      "codemirror_mode": {
        "name": "ipython",
        "version": 3
      },
      "file_extension": ".py",
      "mimetype": "text/x-python",
      "name": "python",
      "nbconvert_exporter": "python",
      "pygments_lexer": "ipython3",
      "version": "3.7.6"
    },
    "accelerator": "GPU"
  },
  "nbformat": 4,
  "nbformat_minor": 0
}