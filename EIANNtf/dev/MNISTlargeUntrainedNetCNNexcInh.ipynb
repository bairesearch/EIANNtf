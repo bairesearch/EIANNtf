{
  "cells": [
    {
      "cell_type": "markdown",
      "metadata": {
        "id": "3wF5wszaj97Y"
      },
      "source": [
        "# MNIST Large Untrained Net CNN Exc Inh"
      ]
    },
    {
      "cell_type": "markdown",
      "metadata": {
        "id": "9fyMqv0I6N7V"
      },
      "source": [
        "Derived from https://www.kaggle.com/code/amyjang/tensorflow-mnist-cnn-tutorial/notebook"
      ]
    },
    {
      "cell_type": "code",
      "execution_count": 110,
      "metadata": {
        "colab": {
          "base_uri": "https://localhost:8080/"
        },
        "id": "DhS7EGDb6N7c",
        "outputId": "a53ace95-5fe9-490b-ccfe-1df72775a2e8"
      },
      "outputs": [
        {
          "output_type": "stream",
          "name": "stdout",
          "text": [
            "2.8.2\n"
          ]
        }
      ],
      "source": [
        "import tensorflow as tf\n",
        "import seaborn as sns\n",
        "import numpy as np\n",
        "import pandas as pd\n",
        "import matplotlib.pyplot as plt\n",
        "import matplotlib.image as mpimg\n",
        "from keras import backend as K\n",
        "\n",
        "print(tf.__version__)"
      ]
    },
    {
      "cell_type": "markdown",
      "metadata": {
        "id": "pGfQXr--YeL7"
      },
      "source": [
        "## Load data"
      ]
    },
    {
      "cell_type": "code",
      "execution_count": 111,
      "metadata": {
        "id": "8efB13kY6N7g"
      },
      "outputs": [],
      "source": [
        "mnist = tf.keras.datasets.mnist\n",
        "(x_train, y_train), (x_test, y_test) = mnist.load_data()"
      ]
    },
    {
      "cell_type": "code",
      "execution_count": 112,
      "metadata": {
        "id": "jV3cgXgP6N7m"
      },
      "outputs": [],
      "source": [
        "input_shape = (28, 28, 1)\n",
        "\n",
        "x_train=x_train.reshape(x_train.shape[0], x_train.shape[1], x_train.shape[2], 1)\n",
        "x_train=x_train / 255.0\n",
        "x_test = x_test.reshape(x_test.shape[0], x_test.shape[1], x_test.shape[2], 1)\n",
        "x_test=x_test/255.0"
      ]
    },
    {
      "cell_type": "code",
      "execution_count": 113,
      "metadata": {
        "id": "N60OSnQM6N7n"
      },
      "outputs": [],
      "source": [
        "y_train = tf.one_hot(y_train.astype(np.int32), depth=10)\n",
        "y_test = tf.one_hot(y_test.astype(np.int32), depth=10)"
      ]
    },
    {
      "cell_type": "code",
      "execution_count": 114,
      "metadata": {
        "colab": {
          "base_uri": "https://localhost:8080/",
          "height": 282
        },
        "id": "0dMzhGd16N7o",
        "outputId": "b82e8ada-b4d3-4008-a0d1-d1da88bb263b"
      },
      "outputs": [
        {
          "output_type": "stream",
          "name": "stdout",
          "text": [
            "tf.Tensor([0. 0. 0. 0. 0. 1. 0. 0. 0. 0.], shape=(10,), dtype=float32)\n"
          ]
        },
        {
          "output_type": "display_data",
          "data": {
            "text/plain": [
              "<Figure size 432x288 with 1 Axes>"
            ],
            "image/png": "[encoded data removed]"
          },
          "metadata": {
            "needs_background": "light"
          }
        }
      ],
      "source": [
        "plt.imshow(x_train[100][:,:,0])\n",
        "print(y_train[100])"
      ]
    },
    {
      "cell_type": "markdown",
      "metadata": {
        "id": "BPZ68wASog_I"
      },
      "source": [
        "## Define model"
      ]
    },
    {
      "cell_type": "code",
      "execution_count": 115,
      "metadata": {
        "id": "3BSgPmfd6N7p"
      },
      "outputs": [],
      "source": [
        "batch_size = 64\n",
        "num_classes = 10\n",
        "epochs = 5  #1  #5"
      ]
    },
    {
      "cell_type": "code",
      "source": [
        "def activationExcitatory(x):\n",
        "    return K.maximum(x, 0)  #ReLU\n",
        "\n",
        "def activationInhibitory(x):\n",
        "    return -(K.maximum(x, 0))   #ReLU with negative output\n",
        "\n",
        "def excitatoryNeuronInitializer(shape, dtype=None):\n",
        "    return tf.math.abs(tf.random.normal(shape, dtype=dtype))\n",
        "\n",
        "def inhibitoryNeuronInitializer(shape, dtype=None):\n",
        "    #return tf.math.negative(tf.math.abs(tf.random.normal(shape, dtype=dtype)))\n",
        "    return tf.math.abs(tf.random.normal(shape, dtype=dtype))\n"
      ],
      "metadata": {
        "id": "G_TJH-X4qhtI"
      },
      "execution_count": 116,
      "outputs": []
    },
    {
      "cell_type": "code",
      "execution_count": 117,
      "metadata": {
        "id": "OLN-jkxg6N7q",
        "colab": {
          "base_uri": "https://localhost:8080/"
        },
        "outputId": "2d485172-aa90-4e02-ac7b-6edb611d8223"
      },
      "outputs": [
        {
          "output_type": "stream",
          "name": "stdout",
          "text": [
            "Model: \"model_10\"\n",
            "__________________________________________________________________________________________________\n",
            " Layer (type)                   Output Shape         Param #     Connected to                     \n",
            "==================================================================================================\n",
            " input_11 (InputLayer)          [(None, 28, 28, 1)]  0           []                               \n",
            "                                                                                                  \n",
            " conv2d_44 (Conv2D)             (None, 28, 28, 32)   832         ['input_11[0][0]']               \n",
            "                                                                                                  \n",
            " conv2d_45 (Conv2D)             (None, 28, 28, 32)   832         ['input_11[0][0]']               \n",
            "                                                                                                  \n",
            " activation_46 (Activation)     (None, 28, 28, 32)   0           ['conv2d_44[0][0]']              \n",
            "                                                                                                  \n",
            " activation_47 (Activation)     (None, 28, 28, 32)   0           ['conv2d_45[0][0]']              \n",
            "                                                                                                  \n",
            " concatenate_23 (Concatenate)   (None, 28, 28, 64)   0           ['activation_46[0][0]',          \n",
            "                                                                  'activation_47[0][0]']          \n",
            "                                                                                                  \n",
            " conv2d_46 (Conv2D)             (None, 28, 28, 32)   51232       ['concatenate_23[0][0]']         \n",
            "                                                                                                  \n",
            " conv2d_47 (Conv2D)             (None, 28, 28, 32)   51232       ['concatenate_23[0][0]']         \n",
            "                                                                                                  \n",
            " activation_48 (Activation)     (None, 28, 28, 32)   0           ['conv2d_46[0][0]']              \n",
            "                                                                                                  \n",
            " activation_49 (Activation)     (None, 28, 28, 32)   0           ['conv2d_47[0][0]']              \n",
            "                                                                                                  \n",
            " concatenate_24 (Concatenate)   (None, 28, 28, 64)   0           ['activation_48[0][0]',          \n",
            "                                                                  'activation_49[0][0]']          \n",
            "                                                                                                  \n",
            " max_pooling2d_11 (MaxPooling2D  (None, 14, 14, 64)  0           ['concatenate_24[0][0]']         \n",
            " )                                                                                                \n",
            "                                                                                                  \n",
            " dropout_11 (Dropout)           (None, 14, 14, 64)   0           ['max_pooling2d_11[0][0]']       \n",
            "                                                                                                  \n",
            " flatten_11 (Flatten)           (None, 12544)        0           ['dropout_11[0][0]']             \n",
            "                                                                                                  \n",
            " dense_12 (Dense)               (None, 10)           125450      ['flatten_11[0][0]']             \n",
            "                                                                                                  \n",
            "==================================================================================================\n",
            "Total params: 229,578\n",
            "Trainable params: 229,578\n",
            "Non-trainable params: 0\n",
            "__________________________________________________________________________________________________\n",
            "None\n"
          ]
        }
      ],
      "source": [
        "\n",
        "positiveWeightImplementation = True\t#mandatory (only implementation)\n",
        "if(positiveWeightImplementation):\n",
        "    weightConstraint = tf.keras.constraints.non_neg()\n",
        "    positiveWeightImplementationBiases = True   #ensure positive biases also\n",
        "    if(positiveWeightImplementationBiases):\n",
        "        biasConstraint = tf.keras.constraints.non_neg()\n",
        "        positiveWeightImplementationBiasesLastLayer = False\n",
        "        if(positiveWeightImplementationBiasesLastLayer):\n",
        "            biasConstraintLastLayer = tf.keras.constraints.non_neg()\n",
        "        else:\n",
        "            biasConstraintLastLayer = None\n",
        "    else:\n",
        "        biasConstraint = None\n",
        "\n",
        "generateUntrainedNetwork = False\n",
        "if(generateUntrainedNetwork):\n",
        "    #only train the last layer\n",
        "    generateLargeNetwork = True\n",
        "    numberOfHiddenLayers = 2    #5    #default = 5, if 0 then useSVM=True\n",
        "else:\n",
        "    generateLargeNetwork = False\n",
        "    numberOfHiddenLayers = 2    #5\n",
        "addSkipLayers = False\n",
        "if(numberOfHiddenLayers > 1):\n",
        "    addSkipLayers = False #True    #optional\n",
        "\n",
        "if(generateLargeNetwork):\n",
        "    largeNetworkRatio = 10    #100\n",
        "    generateLargeNetworkExpansion = False\n",
        "    if(generateLargeNetworkExpansion):\n",
        "        generateLargeNetworkRatioExponential = False\n",
        "else:\n",
        "    generateLargeNetworkRatio = False\n",
        "\n",
        "def getLayerRatio(layerIndex):\n",
        "    layerRatio = 1\n",
        "    if(generateLargeNetwork):\n",
        "        if(generateLargeNetworkExpansion):\n",
        "            if(generateLargeNetworkRatioExponential):\n",
        "                layerRatio = largeNetworkRatio**layerIndex\n",
        "            else:\n",
        "                layerRatio = largeNetworkRatio * layerIndex\n",
        "        else:\n",
        "            layerRatio = largeNetworkRatio\n",
        "    else:\n",
        "        layerRatio = 1\n",
        "    return int(layerRatio)\n",
        "\n",
        "\n",
        "x = tf.keras.layers.Input(shape=input_shape)\n",
        "hLast = x\n",
        "if(numberOfHiddenLayers >= 1):\n",
        "    layerRatio = getLayerRatio(1)\n",
        "    h1E = tf.keras.layers.Conv2D(32*layerRatio, (5,5), kernel_initializer=excitatoryNeuronInitializer, kernel_constraint=weightConstraint, bias_constraint=biasConstraint, padding='same')(x)\n",
        "    h1I = tf.keras.layers.Conv2D(32*layerRatio, (5,5), kernel_initializer=inhibitoryNeuronInitializer, kernel_constraint=weightConstraint, bias_constraint=biasConstraint, padding='same')(x)\n",
        "    h1E = tf.keras.layers.Activation(activationExcitatory)(h1E)\n",
        "    h1I = tf.keras.layers.Activation(activationInhibitory)(h1I)\n",
        "    h1 = tf.keras.layers.Concatenate()([h1E, h1I])\n",
        "    hLast = h1\n",
        "if(numberOfHiddenLayers >= 2):\n",
        "    layerRatio = getLayerRatio(2)\n",
        "    h2E = tf.keras.layers.Conv2D(32*layerRatio, (5,5), kernel_initializer=excitatoryNeuronInitializer, kernel_constraint=weightConstraint, bias_constraint=biasConstraint, padding='same')(h1)\n",
        "    h2I = tf.keras.layers.Conv2D(32*layerRatio, (5,5), kernel_initializer=inhibitoryNeuronInitializer, kernel_constraint=weightConstraint, bias_constraint=biasConstraint, padding='same')(h1)\n",
        "    h2E = tf.keras.layers.Activation(activationExcitatory)(h2E)\n",
        "    h2I = tf.keras.layers.Activation(activationInhibitory)(h2I)\n",
        "    h2 = tf.keras.layers.Concatenate()([h2E, h2I])\n",
        "    h2 = tf.keras.layers.MaxPool2D()(h2)\n",
        "    h2 = tf.keras.layers.Dropout(0.25)(h2)\n",
        "    hLast = h2\n",
        "if(numberOfHiddenLayers >= 3):\n",
        "    layerRatio = getLayerRatio(3)\n",
        "    h3E = tf.keras.layers.Conv2D(32*layerRatio, (3,3), kernel_initializer=excitatoryNeuronInitializer, kernel_constraint=weightConstraint, bias_constraint=biasConstraint, padding='same')(h2)\n",
        "    h3I = tf.keras.layers.Conv2D(32*layerRatio, (3,3), kernel_initializer=inhibitoryNeuronInitializer, kernel_constraint=weightConstraint, bias_constraint=biasConstraint, padding='same')(h2)\n",
        "    h3E = tf.keras.layers.Activation(activationExcitatory)(h3E)\n",
        "    h3I = tf.keras.layers.Activation(activationInhibitory)(h3I)\n",
        "    h3 = tf.keras.layers.Concatenate()([h3E, h3I])\n",
        "    hLast = h3\n",
        "if(numberOfHiddenLayers >= 4):\n",
        "    layerRatio = getLayerRatio(4)\n",
        "    h4E = tf.keras.layers.Conv2D(32*layerRatio, (3,3), kernel_initializer=excitatoryNeuronInitializer, kernel_constraint=weightConstraint, bias_constraint=biasConstraint, padding='same')(h3)\n",
        "    h4I = tf.keras.layers.Conv2D(32*layerRatio, (3,3), kernel_initializer=inhibitoryNeuronInitializer, kernel_constraint=weightConstraint, bias_constraint=biasConstraint, padding='same')(h3)\n",
        "    h4E = tf.keras.layers.Activation(activationExcitatory)(h4E)\n",
        "    h4I = tf.keras.layers.Activation(activationInhibitory)(h4I)\n",
        "    h4 = tf.keras.layers.Concatenate()([h4E, h4I])\n",
        "    h4 = tf.keras.layers.MaxPool2D(strides=(2,2))(h4)\n",
        "    h4 = tf.keras.layers.Flatten()(h4)\n",
        "    hLast = h4\n",
        "if(numberOfHiddenLayers >= 5):\n",
        "    layerRatio = getLayerRatio(5)\n",
        "    h5E = tf.keras.layers.Dense(128*layerRatio, kernel_initializer=excitatoryNeuronInitializer, kernel_constraint=weightConstraint, bias_constraint=biasConstraint)(h4)\n",
        "    h5I = tf.keras.layers.Dense(128*layerRatio, kernel_initializer=inhibitoryNeuronInitializer, kernel_constraint=weightConstraint, bias_constraint=biasConstraint)(h4)\n",
        "    h5E = tf.keras.layers.Activation(activationExcitatory)(h5E)\n",
        "    h5I = tf.keras.layers.Activation(activationInhibitory)(h5I)\n",
        "    h5 = tf.keras.layers.Concatenate()([h5E, h5I])\n",
        "    h5 = tf.keras.layers.Dropout(0.5)(h5)\n",
        "    hLast = h5\n",
        "if(addSkipLayers):\n",
        "    mList = []\n",
        "    if(numberOfHiddenLayers >= 1):\n",
        "        m1 = tf.keras.layers.Flatten()(h1)\n",
        "        mList.append(m1)\n",
        "    if(numberOfHiddenLayers >= 2):\n",
        "        m2 = tf.keras.layers.Flatten()(h2)\n",
        "        mList.append(m2)\n",
        "    if(numberOfHiddenLayers >= 3):\n",
        "        m3 = tf.keras.layers.Flatten()(h3)\n",
        "        mList.append(m3)\n",
        "    if(numberOfHiddenLayers >= 4):\n",
        "        m4 = tf.keras.layers.Flatten()(h4)\n",
        "        mList.append(m4)\n",
        "    if(numberOfHiddenLayers >= 5):\n",
        "        m5 = h5\n",
        "        mList.append(m5)\n",
        "    hLast = tf.keras.layers.concatenate(mList)\n",
        "hLast = tf.keras.layers.Flatten()(hLast)    #flatten hLast if necessary (ie numberOfHiddenLayers <4)\n",
        "if(generateUntrainedNetwork):\n",
        "    hLast = tf.keras.layers.Lambda(lambda x: tf.keras.backend.stop_gradient(x))(hLast)\n",
        "y = tf.keras.layers.Dense(num_classes, activation='softmax', kernel_constraint=weightConstraint, bias_constraint=biasConstraintLastLayer)(hLast)\n",
        "model = tf.keras.Model(x, y)\n",
        "\n",
        "print(model.summary())\n",
        "\n",
        "model.compile(optimizer=tf.keras.optimizers.RMSprop(epsilon=1e-08), loss='categorical_crossentropy', metrics=['acc'])\n"
      ]
    },
    {
      "cell_type": "code",
      "execution_count": 118,
      "metadata": {
        "id": "KM1t_AIX6N7r"
      },
      "outputs": [],
      "source": [
        "class myCallback(tf.keras.callbacks.Callback):\n",
        "  def on_epoch_end(self, epoch, logs={}):\n",
        "    if(logs.get('acc')>0.995):\n",
        "      print(\"\\nReached 99.5% accuracy so cancelling training!\")\n",
        "      self.model.stop_training = True\n",
        "\n",
        "callbacks = myCallback()"
      ]
    },
    {
      "cell_type": "code",
      "source": [
        "for i, layer in enumerate(model.layers):\n",
        "    weights = layer.get_weights()\n",
        "    #print(\"weights = \", weights)"
      ],
      "metadata": {
        "id": "5jk4kLEmd_lJ"
      },
      "execution_count": 119,
      "outputs": []
    },
    {
      "cell_type": "markdown",
      "source": [
        "## Train model"
      ],
      "metadata": {
        "id": "fYpudx2VRL3c"
      }
    },
    {
      "cell_type": "code",
      "execution_count": 120,
      "metadata": {
        "colab": {
          "base_uri": "https://localhost:8080/"
        },
        "id": "F9ocCw_T6N7s",
        "outputId": "851bfd4c-0328-4f60-dbdb-f57d61c088ae"
      },
      "outputs": [
        {
          "output_type": "stream",
          "name": "stdout",
          "text": [
            "Epoch 1/5\n",
            "844/844 [==============================] - 1026s 1s/step - loss: 7.4279 - acc: 0.9066 - val_loss: 0.1151 - val_acc: 0.9710\n",
            "Epoch 2/5\n",
            "844/844 [==============================] - 1020s 1s/step - loss: 0.1786 - acc: 0.9518 - val_loss: 0.1164 - val_acc: 0.9653\n",
            "Epoch 3/5\n",
            "844/844 [==============================] - 1016s 1s/step - loss: 0.1708 - acc: 0.9541 - val_loss: 0.0938 - val_acc: 0.9743\n",
            "Epoch 4/5\n",
            "844/844 [==============================] - 1017s 1s/step - loss: 0.1611 - acc: 0.9556 - val_loss: 0.1146 - val_acc: 0.9670\n",
            "Epoch 5/5\n",
            "844/844 [==============================] - 1016s 1s/step - loss: 0.1593 - acc: 0.9572 - val_loss: 0.1054 - val_acc: 0.9768\n"
          ]
        }
      ],
      "source": [
        "history = model.fit(x_train, y_train,\n",
        "                    batch_size=batch_size,\n",
        "                    epochs=epochs,\n",
        "                    validation_split=0.1,\n",
        "                    callbacks=[callbacks])"
      ]
    },
    {
      "cell_type": "code",
      "source": [
        "for i, layer in enumerate(model.layers):\n",
        "    weights = layer.get_weights()\n",
        "    #print(\"weights = \", weights)"
      ],
      "metadata": {
        "id": "h0TbUrixeokx"
      },
      "execution_count": 121,
      "outputs": []
    },
    {
      "cell_type": "markdown",
      "metadata": {
        "id": "Rr34Iqnn6N7s"
      },
      "source": [
        "## Evaluate model"
      ]
    },
    {
      "cell_type": "code",
      "execution_count": 122,
      "metadata": {
        "id": "BuCQbNgW6N7s",
        "colab": {
          "base_uri": "https://localhost:8080/",
          "height": 266
        },
        "outputId": "75b87026-9e28-4030-91af-eea5fce95a31"
      },
      "outputs": [
        {
          "output_type": "display_data",
          "data": {
            "text/plain": [
              "<Figure size 432x288 with 2 Axes>"
            ],
            "image/png": "[encoded data removed]"
          },
          "metadata": {
            "needs_background": "light"
          }
        }
      ],
      "source": [
        "fig, ax = plt.subplots(2,1)\n",
        "ax[0].plot(history.history['loss'], color='b', label=\"Training Loss\")\n",
        "ax[0].plot(history.history['val_loss'], color='r', label=\"Validation Loss\",axes =ax[0])\n",
        "legend = ax[0].legend(loc='best', shadow=True)\n",
        "\n",
        "ax[1].plot(history.history['acc'], color='b', label=\"Training Accuracy\")\n",
        "ax[1].plot(history.history['val_acc'], color='r',label=\"Validation Accuracy\")\n",
        "legend = ax[1].legend(loc='best', shadow=True)"
      ]
    },
    {
      "cell_type": "code",
      "execution_count": 123,
      "metadata": {
        "id": "7Jz4oEW06N7u",
        "colab": {
          "base_uri": "https://localhost:8080/"
        },
        "outputId": "9e8446fb-38d0-4d51-a56b-f1fc658946c7"
      },
      "outputs": [
        {
          "output_type": "stream",
          "name": "stdout",
          "text": [
            "313/313 [==============================] - 39s 125ms/step - loss: 0.1098 - acc: 0.9744\n"
          ]
        }
      ],
      "source": [
        "test_loss, test_acc = model.evaluate(x_test, y_test)"
      ]
    }
  ],
  "metadata": {
    "colab": {
      "collapsed_sections": [],
      "provenance": []
    },
    "kernelspec": {
      "display_name": "Python 3",
      "language": "python",
      "name": "python3"
    },
    "language_info": {
      "codemirror_mode": {
        "name": "ipython",
        "version": 3
      },
      "file_extension": ".py",
      "mimetype": "text/x-python",
      "name": "python",
      "nbconvert_exporter": "python",
      "pygments_lexer": "ipython3",
      "version": "3.7.6"
    }
  },
  "nbformat": 4,
  "nbformat_minor": 0
}